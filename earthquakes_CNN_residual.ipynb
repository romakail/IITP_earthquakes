{
 "cells": [
  {
   "cell_type": "code",
   "execution_count": 1,
   "metadata": {},
   "outputs": [],
   "source": [
    "# System\n",
    "import os\n",
    "\n",
    "# Data processing\n",
    "import numpy as np\n",
    "import pandas as pd\n",
    "import math as m\n",
    "import datetime as dt\n",
    "\n",
    "# Results presentation\n",
    "from tqdm import tqdm_notebook as tqdm\n",
    "from IPython.display import clear_output\n",
    "import matplotlib.pyplot as plt\n",
    "\n",
    "# NN related stuff\n",
    "import torch\n",
    "import torch.nn as nn\n",
    "import torch.nn.functional as F\n",
    "from torch.utils.data import Dataset, DataLoader\n",
    "from torch.autograd import Variable\n",
    "\n",
    "# Metrics\n",
    "from sklearn.metrics import accuracy_score\n",
    "from sklearn.metrics import roc_auc_score\n",
    "from sklearn.metrics import average_precision_score\n",
    "from sklearn.metrics import precision_recall_curve\n",
    "\n",
    "%matplotlib inline"
   ]
  },
  {
   "cell_type": "code",
   "execution_count": 2,
   "metadata": {},
   "outputs": [],
   "source": [
    "SAVE_INFO = False"
   ]
  },
  {
   "cell_type": "code",
   "execution_count": 3,
   "metadata": {},
   "outputs": [],
   "source": [
    "if (SAVE_INFO == True):\n",
    "    DATA_DIR = 'Data/'\n",
    "    EXPERIMENT_DIR = DATA_DIR + 'Experiment_conv/'\n",
    "    os.makedirs(EXPERIMENT_DIR)"
   ]
  },
  {
   "cell_type": "markdown",
   "metadata": {},
   "source": [
    "### посмотрим что мы имеем"
   ]
  },
  {
   "cell_type": "code",
   "execution_count": 4,
   "metadata": {},
   "outputs": [
    {
     "data": {
      "text/html": [
       "<div>\n",
       "<style scoped>\n",
       "    .dataframe tbody tr th:only-of-type {\n",
       "        vertical-align: middle;\n",
       "    }\n",
       "\n",
       "    .dataframe tbody tr th {\n",
       "        vertical-align: top;\n",
       "    }\n",
       "\n",
       "    .dataframe thead th {\n",
       "        text-align: right;\n",
       "    }\n",
       "</style>\n",
       "<table border=\"1\" class=\"dataframe\">\n",
       "  <thead>\n",
       "    <tr style=\"text-align: right;\">\n",
       "      <th></th>\n",
       "      <th>year</th>\n",
       "      <th>month</th>\n",
       "      <th>date</th>\n",
       "      <th>hour</th>\n",
       "      <th>minute</th>\n",
       "      <th>seconds</th>\n",
       "      <th>lat</th>\n",
       "      <th>long</th>\n",
       "      <th>depth</th>\n",
       "      <th>class</th>\n",
       "    </tr>\n",
       "  </thead>\n",
       "  <tbody>\n",
       "    <tr>\n",
       "      <td>0</td>\n",
       "      <td>1990</td>\n",
       "      <td>1</td>\n",
       "      <td>1</td>\n",
       "      <td>2</td>\n",
       "      <td>19</td>\n",
       "      <td>5.018</td>\n",
       "      <td>42.2734</td>\n",
       "      <td>144.8460</td>\n",
       "      <td>8.0</td>\n",
       "      <td>2.9</td>\n",
       "    </tr>\n",
       "    <tr>\n",
       "      <td>1</td>\n",
       "      <td>1990</td>\n",
       "      <td>1</td>\n",
       "      <td>1</td>\n",
       "      <td>4</td>\n",
       "      <td>4</td>\n",
       "      <td>20.026</td>\n",
       "      <td>39.9358</td>\n",
       "      <td>142.5461</td>\n",
       "      <td>30.6</td>\n",
       "      <td>3.0</td>\n",
       "    </tr>\n",
       "    <tr>\n",
       "      <td>2</td>\n",
       "      <td>1990</td>\n",
       "      <td>1</td>\n",
       "      <td>1</td>\n",
       "      <td>7</td>\n",
       "      <td>14</td>\n",
       "      <td>11.038</td>\n",
       "      <td>36.7053</td>\n",
       "      <td>141.2990</td>\n",
       "      <td>18.6</td>\n",
       "      <td>2.7</td>\n",
       "    </tr>\n",
       "    <tr>\n",
       "      <td>3</td>\n",
       "      <td>1990</td>\n",
       "      <td>1</td>\n",
       "      <td>1</td>\n",
       "      <td>9</td>\n",
       "      <td>3</td>\n",
       "      <td>12.039</td>\n",
       "      <td>36.4859</td>\n",
       "      <td>140.6964</td>\n",
       "      <td>67.2</td>\n",
       "      <td>4.3</td>\n",
       "    </tr>\n",
       "    <tr>\n",
       "      <td>4</td>\n",
       "      <td>1990</td>\n",
       "      <td>1</td>\n",
       "      <td>1</td>\n",
       "      <td>12</td>\n",
       "      <td>31</td>\n",
       "      <td>25.018</td>\n",
       "      <td>35.0121</td>\n",
       "      <td>138.1440</td>\n",
       "      <td>22.6</td>\n",
       "      <td>2.5</td>\n",
       "    </tr>\n",
       "    <tr>\n",
       "      <td>...</td>\n",
       "      <td>...</td>\n",
       "      <td>...</td>\n",
       "      <td>...</td>\n",
       "      <td>...</td>\n",
       "      <td>...</td>\n",
       "      <td>...</td>\n",
       "      <td>...</td>\n",
       "      <td>...</td>\n",
       "      <td>...</td>\n",
       "      <td>...</td>\n",
       "    </tr>\n",
       "    <tr>\n",
       "      <td>247469</td>\n",
       "      <td>2016</td>\n",
       "      <td>3</td>\n",
       "      <td>22</td>\n",
       "      <td>5</td>\n",
       "      <td>34</td>\n",
       "      <td>23.010</td>\n",
       "      <td>36.8300</td>\n",
       "      <td>140.5200</td>\n",
       "      <td>10.0</td>\n",
       "      <td>4.7</td>\n",
       "    </tr>\n",
       "    <tr>\n",
       "      <td>247470</td>\n",
       "      <td>2016</td>\n",
       "      <td>3</td>\n",
       "      <td>24</td>\n",
       "      <td>7</td>\n",
       "      <td>57</td>\n",
       "      <td>38.010</td>\n",
       "      <td>43.2500</td>\n",
       "      <td>145.6100</td>\n",
       "      <td>109.0</td>\n",
       "      <td>4.2</td>\n",
       "    </tr>\n",
       "    <tr>\n",
       "      <td>247471</td>\n",
       "      <td>2016</td>\n",
       "      <td>3</td>\n",
       "      <td>30</td>\n",
       "      <td>5</td>\n",
       "      <td>9</td>\n",
       "      <td>59.000</td>\n",
       "      <td>42.9100</td>\n",
       "      <td>144.7900</td>\n",
       "      <td>59.0</td>\n",
       "      <td>4.7</td>\n",
       "    </tr>\n",
       "    <tr>\n",
       "      <td>247472</td>\n",
       "      <td>2016</td>\n",
       "      <td>3</td>\n",
       "      <td>31</td>\n",
       "      <td>2</td>\n",
       "      <td>48</td>\n",
       "      <td>25.000</td>\n",
       "      <td>36.0600</td>\n",
       "      <td>140.2600</td>\n",
       "      <td>70.0</td>\n",
       "      <td>4.3</td>\n",
       "    </tr>\n",
       "    <tr>\n",
       "      <td>247473</td>\n",
       "      <td>2016</td>\n",
       "      <td>4</td>\n",
       "      <td>4</td>\n",
       "      <td>10</td>\n",
       "      <td>32</td>\n",
       "      <td>32.000</td>\n",
       "      <td>39.8300</td>\n",
       "      <td>141.9000</td>\n",
       "      <td>40.0</td>\n",
       "      <td>4.3</td>\n",
       "    </tr>\n",
       "  </tbody>\n",
       "</table>\n",
       "<p>247474 rows × 10 columns</p>\n",
       "</div>"
      ],
      "text/plain": [
       "        year  month  date  hour  minute  seconds      lat      long  depth  \\\n",
       "0       1990      1     1     2      19    5.018  42.2734  144.8460    8.0   \n",
       "1       1990      1     1     4       4   20.026  39.9358  142.5461   30.6   \n",
       "2       1990      1     1     7      14   11.038  36.7053  141.2990   18.6   \n",
       "3       1990      1     1     9       3   12.039  36.4859  140.6964   67.2   \n",
       "4       1990      1     1    12      31   25.018  35.0121  138.1440   22.6   \n",
       "...      ...    ...   ...   ...     ...      ...      ...       ...    ...   \n",
       "247469  2016      3    22     5      34   23.010  36.8300  140.5200   10.0   \n",
       "247470  2016      3    24     7      57   38.010  43.2500  145.6100  109.0   \n",
       "247471  2016      3    30     5       9   59.000  42.9100  144.7900   59.0   \n",
       "247472  2016      3    31     2      48   25.000  36.0600  140.2600   70.0   \n",
       "247473  2016      4     4    10      32   32.000  39.8300  141.9000   40.0   \n",
       "\n",
       "        class  \n",
       "0         2.9  \n",
       "1         3.0  \n",
       "2         2.7  \n",
       "3         4.3  \n",
       "4         2.5  \n",
       "...       ...  \n",
       "247469    4.7  \n",
       "247470    4.2  \n",
       "247471    4.7  \n",
       "247472    4.3  \n",
       "247473    4.3  \n",
       "\n",
       "[247474 rows x 10 columns]"
      ]
     },
     "execution_count": 4,
     "metadata": {},
     "output_type": "execute_result"
    }
   ],
   "source": [
    "data = pd.read_csv('earthquakes_data.csv', sep=',')\n",
    "data"
   ]
  },
  {
   "cell_type": "code",
   "execution_count": 5,
   "metadata": {},
   "outputs": [
    {
     "data": {
      "image/png": "[encoded data removed]",
      "text/plain": [
       "<Figure size 579.13x648 with 1 Axes>"
      ]
     },
     "metadata": {
      "needs_background": "light"
     },
     "output_type": "display_data"
    }
   ],
   "source": [
    "fig = plt.figure(figsize=(10.5 * m.cos(40 * m.pi / 180), 9))\n",
    "\n",
    "axes = fig.add_axes([0.1, 0.1, 0.8, 0.8])\n",
    "\n",
    "axes.scatter(data['long'], data['lat'], color='red', marker='.', s=20)\n",
    "plt.axis([120.0, 155.0, 20.0, 50.0])\n",
    "\n",
    "axes.set_xlabel('long')\n",
    "axes.set_ylabel('lat')\n",
    "axes.set_title('title')\n",
    "\n",
    "plt.show()"
   ]
  },
  {
   "cell_type": "markdown",
   "metadata": {},
   "source": [
    "### Спроецируем Японию на плоскость"
   ]
  },
  {
   "cell_type": "code",
   "execution_count": 6,
   "metadata": {},
   "outputs": [],
   "source": [
    "R_polus   = 6356.86\n",
    "R_ekvator = 6378.20\n",
    "\n",
    "def local_radius (longitude):\n",
    "    return m.cos (longitude * m.pi / 180) * (R_ekvator - R_polus) + R_polus\n",
    "\n",
    "R_japan = local_radius (37)"
   ]
  },
  {
   "cell_type": "code",
   "execution_count": 7,
   "metadata": {},
   "outputs": [
    {
     "data": {
      "text/plain": [
       "(247474, 10)"
      ]
     },
     "execution_count": 7,
     "metadata": {},
     "output_type": "execute_result"
    }
   ],
   "source": [
    "ORIGIN_LATITUDE  = 27.0\n",
    "ORIGIN_LONGITUDE = 127.0\n",
    "\n",
    "def spherical_to_cartesian (longitude, latitude):\n",
    "    X = (longitude - ORIGIN_LONGITUDE) * m.pi / 180 * R_japan * m.cos (latitude * m.pi / 180)\n",
    "    Y = (latitude  - ORIGIN_LATITUDE ) * m.pi / 180 * R_japan \n",
    "    \n",
    "    return X, Y\n",
    "\n",
    "data.shape"
   ]
  },
  {
   "cell_type": "code",
   "execution_count": 8,
   "metadata": {},
   "outputs": [],
   "source": [
    "# XY_massive = np.zeros((data.shape[0], 2))\n",
    "# j = 0\n",
    "# for i in tqdm(range (XY_massive.shape[0])):\n",
    "#     XY_massive[i][0], XY_massive[i][1] = spherical_to_cartesian (data['long'][i], data['lat'][i])\n",
    "\n",
    "# data['x'] = XY_massive[:, 0]\n",
    "# data['y'] = XY_massive[:, 1]\n",
    "# #data['lat'], data['long'] = spherical_to_cartesian (data['lat'], data['long'])"
   ]
  },
  {
   "cell_type": "markdown",
   "metadata": {},
   "source": [
    "#### Посмотрим что получилось"
   ]
  },
  {
   "cell_type": "code",
   "execution_count": 9,
   "metadata": {},
   "outputs": [],
   "source": [
    "# fig = plt.figure(figsize=(10, 12.5))\n",
    "\n",
    "# axes = fig.add_axes([0.1, 0.1, 0.8, 0.8])\n",
    "\n",
    "# axes.scatter(data['x'], data['y'], color='orange', marker='.', s=20)\n",
    "# plt.axis([0, 2000, 0, 2500])\n",
    "\n",
    "# axes.set_xlabel('x')\n",
    "# axes.set_ylabel('y')\n",
    "# axes.set_title('title')\n",
    "\n",
    "# if (SAVE_INFO == True):\n",
    "#     plt.savefig(EXPERIMENT_DIR + 'map.png', format='png', dpi=100)\n",
    "# plt.show()"
   ]
  },
  {
   "cell_type": "code",
   "execution_count": 10,
   "metadata": {},
   "outputs": [
    {
     "data": {
      "application/vnd.jupyter.widget-view+json": {
       "model_id": "4554375596534c75a83933189405ce9d",
       "version_major": 2,
       "version_minor": 0
      },
      "text/plain": [
       "HBox(children=(IntProgress(value=0, max=247474), HTML(value='')))"
      ]
     },
     "metadata": {},
     "output_type": "display_data"
    },
    {
     "name": "stdout",
     "output_type": "stream",
     "text": [
      "\n"
     ]
    }
   ],
   "source": [
    "a = np.zeros(20, dtype=int)\n",
    "for i in tqdm(range (data.shape[0])):\n",
    "    for threshold in range (20):\n",
    "        if (data['class'][i] >= threshold/2) and (data['class'][i] < threshold/2 + 0.5):\n",
    "            a[threshold] += 1\n",
    "            break\n",
    "\n",
    "            \n",
    "# print ((a / data.shape[0] * 100).int())\n",
    "\n",
    "    "
   ]
  },
  {
   "cell_type": "markdown",
   "metadata": {},
   "source": [
    "#### Распечатаем сколько землетрясений и с какой амплитудой случалось"
   ]
  },
  {
   "cell_type": "code",
   "execution_count": 11,
   "metadata": {},
   "outputs": [
    {
     "name": "stdout",
     "output_type": "stream",
     "text": [
      "from  0.0  to  0.5  : 0.00 % of dots\n",
      "from  0.5  to  1.0  : 0.00 % of dots\n",
      "from  1.0  to  1.5  : 0.00 % of dots\n",
      "from  1.5  to  2.0  : 0.00 % of dots\n",
      "from  2.0  to  2.5  : 0.00 % of dots\n",
      "from  2.5  to  3.0  : 51.02 % of dots\n",
      "from  3.0  to  3.5  : 29.93 % of dots\n",
      "from  3.5  to  4.0  : 11.94 % of dots\n",
      "from  4.0  to  4.5  : 4.49 % of dots\n",
      "from  4.5  to  5.0  : 1.65 % of dots\n",
      "from  5.0  to  5.5  : 0.59 % of dots\n",
      "from  5.5  to  6.0  : 0.23 % of dots\n",
      "from  6.0  to  6.5  : 0.09 % of dots\n",
      "from  6.5  to  7.0  : 0.03 % of dots\n",
      "from  7.0  to  7.5  : 0.01 % of dots\n",
      "from  7.5  to  8.0  : 0.00 % of dots\n",
      "from  8.0  to  8.5  : 0.00 % of dots\n",
      "from  8.5  to  9.0  : 0.00 % of dots\n",
      "from  9.0  to  9.5  : 0.00 % of dots\n",
      "from  9.5  to  10.0  : 0.00 % of dots\n"
     ]
    }
   ],
   "source": [
    "if (SAVE_INFO == True):\n",
    "    distr_file = open (EXPERIMENT_DIR + 'earthquakes_distribution.txt', 'w')\n",
    "\n",
    "for i in range (a.shape[0]):\n",
    "    print ('from ', i/2, ' to ', i/2+0.5, ' : %.2f' % (a[i]/data.shape[0]*100), '% of dots')\n",
    "    if (SAVE_INFO == True):\n",
    "        print ('from ', i/2, ' to ', i/2+0.5, ' : %.2f' % (a[i]/data.shape[0]*100), '% of dots', file=distr_file)\n",
    "        \n",
    "if (SAVE_INFO == True):\n",
    "    distr_file.close()\n"
   ]
  },
  {
   "cell_type": "markdown",
   "metadata": {},
   "source": [
    "#### Посчитаем сколько дней прошло с 01.01.1990 до i-го землетрясения"
   ]
  },
  {
   "cell_type": "code",
   "execution_count": 12,
   "metadata": {},
   "outputs": [
    {
     "data": {
      "application/vnd.jupyter.widget-view+json": {
       "model_id": "890f37cf95104fe9b28bf8ae50ea5d1c",
       "version_major": 2,
       "version_minor": 0
      },
      "text/plain": [
       "HBox(children=(IntProgress(value=0, max=247474), HTML(value='')))"
      ]
     },
     "metadata": {},
     "output_type": "display_data"
    },
    {
     "name": "stdout",
     "output_type": "stream",
     "text": [
      "\n"
     ]
    }
   ],
   "source": [
    "time_massive = np.zeros (data.shape[0])\n",
    "\n",
    "d_0 = dt.date (data['year'][0], data['month'][0], data['date'][0])\n",
    "for i in tqdm(range (data.shape[0])):\n",
    "    d_i = dt.date (data['year'][i], data['month'][i], data['date'][i])\n",
    "    time_massive[i] = (d_i - d_0).days\n",
    "    \n",
    "data['time'] = time_massive"
   ]
  },
  {
   "cell_type": "markdown",
   "metadata": {},
   "source": [
    "#### Посмотрим что имеем "
   ]
  },
  {
   "cell_type": "code",
   "execution_count": 13,
   "metadata": {},
   "outputs": [
    {
     "data": {
      "text/html": [
       "<div>\n",
       "<style scoped>\n",
       "    .dataframe tbody tr th:only-of-type {\n",
       "        vertical-align: middle;\n",
       "    }\n",
       "\n",
       "    .dataframe tbody tr th {\n",
       "        vertical-align: top;\n",
       "    }\n",
       "\n",
       "    .dataframe thead th {\n",
       "        text-align: right;\n",
       "    }\n",
       "</style>\n",
       "<table border=\"1\" class=\"dataframe\">\n",
       "  <thead>\n",
       "    <tr style=\"text-align: right;\">\n",
       "      <th></th>\n",
       "      <th>year</th>\n",
       "      <th>month</th>\n",
       "      <th>date</th>\n",
       "      <th>hour</th>\n",
       "      <th>minute</th>\n",
       "      <th>seconds</th>\n",
       "      <th>lat</th>\n",
       "      <th>long</th>\n",
       "      <th>depth</th>\n",
       "      <th>class</th>\n",
       "      <th>time</th>\n",
       "    </tr>\n",
       "  </thead>\n",
       "  <tbody>\n",
       "    <tr>\n",
       "      <td>0</td>\n",
       "      <td>1990</td>\n",
       "      <td>1</td>\n",
       "      <td>1</td>\n",
       "      <td>2</td>\n",
       "      <td>19</td>\n",
       "      <td>5.018</td>\n",
       "      <td>42.2734</td>\n",
       "      <td>144.8460</td>\n",
       "      <td>8.0</td>\n",
       "      <td>2.9</td>\n",
       "      <td>0.0</td>\n",
       "    </tr>\n",
       "    <tr>\n",
       "      <td>1</td>\n",
       "      <td>1990</td>\n",
       "      <td>1</td>\n",
       "      <td>1</td>\n",
       "      <td>4</td>\n",
       "      <td>4</td>\n",
       "      <td>20.026</td>\n",
       "      <td>39.9358</td>\n",
       "      <td>142.5461</td>\n",
       "      <td>30.6</td>\n",
       "      <td>3.0</td>\n",
       "      <td>0.0</td>\n",
       "    </tr>\n",
       "    <tr>\n",
       "      <td>2</td>\n",
       "      <td>1990</td>\n",
       "      <td>1</td>\n",
       "      <td>1</td>\n",
       "      <td>7</td>\n",
       "      <td>14</td>\n",
       "      <td>11.038</td>\n",
       "      <td>36.7053</td>\n",
       "      <td>141.2990</td>\n",
       "      <td>18.6</td>\n",
       "      <td>2.7</td>\n",
       "      <td>0.0</td>\n",
       "    </tr>\n",
       "    <tr>\n",
       "      <td>3</td>\n",
       "      <td>1990</td>\n",
       "      <td>1</td>\n",
       "      <td>1</td>\n",
       "      <td>9</td>\n",
       "      <td>3</td>\n",
       "      <td>12.039</td>\n",
       "      <td>36.4859</td>\n",
       "      <td>140.6964</td>\n",
       "      <td>67.2</td>\n",
       "      <td>4.3</td>\n",
       "      <td>0.0</td>\n",
       "    </tr>\n",
       "    <tr>\n",
       "      <td>4</td>\n",
       "      <td>1990</td>\n",
       "      <td>1</td>\n",
       "      <td>1</td>\n",
       "      <td>12</td>\n",
       "      <td>31</td>\n",
       "      <td>25.018</td>\n",
       "      <td>35.0121</td>\n",
       "      <td>138.1440</td>\n",
       "      <td>22.6</td>\n",
       "      <td>2.5</td>\n",
       "      <td>0.0</td>\n",
       "    </tr>\n",
       "    <tr>\n",
       "      <td>...</td>\n",
       "      <td>...</td>\n",
       "      <td>...</td>\n",
       "      <td>...</td>\n",
       "      <td>...</td>\n",
       "      <td>...</td>\n",
       "      <td>...</td>\n",
       "      <td>...</td>\n",
       "      <td>...</td>\n",
       "      <td>...</td>\n",
       "      <td>...</td>\n",
       "      <td>...</td>\n",
       "    </tr>\n",
       "    <tr>\n",
       "      <td>247469</td>\n",
       "      <td>2016</td>\n",
       "      <td>3</td>\n",
       "      <td>22</td>\n",
       "      <td>5</td>\n",
       "      <td>34</td>\n",
       "      <td>23.010</td>\n",
       "      <td>36.8300</td>\n",
       "      <td>140.5200</td>\n",
       "      <td>10.0</td>\n",
       "      <td>4.7</td>\n",
       "      <td>9577.0</td>\n",
       "    </tr>\n",
       "    <tr>\n",
       "      <td>247470</td>\n",
       "      <td>2016</td>\n",
       "      <td>3</td>\n",
       "      <td>24</td>\n",
       "      <td>7</td>\n",
       "      <td>57</td>\n",
       "      <td>38.010</td>\n",
       "      <td>43.2500</td>\n",
       "      <td>145.6100</td>\n",
       "      <td>109.0</td>\n",
       "      <td>4.2</td>\n",
       "      <td>9579.0</td>\n",
       "    </tr>\n",
       "    <tr>\n",
       "      <td>247471</td>\n",
       "      <td>2016</td>\n",
       "      <td>3</td>\n",
       "      <td>30</td>\n",
       "      <td>5</td>\n",
       "      <td>9</td>\n",
       "      <td>59.000</td>\n",
       "      <td>42.9100</td>\n",
       "      <td>144.7900</td>\n",
       "      <td>59.0</td>\n",
       "      <td>4.7</td>\n",
       "      <td>9585.0</td>\n",
       "    </tr>\n",
       "    <tr>\n",
       "      <td>247472</td>\n",
       "      <td>2016</td>\n",
       "      <td>3</td>\n",
       "      <td>31</td>\n",
       "      <td>2</td>\n",
       "      <td>48</td>\n",
       "      <td>25.000</td>\n",
       "      <td>36.0600</td>\n",
       "      <td>140.2600</td>\n",
       "      <td>70.0</td>\n",
       "      <td>4.3</td>\n",
       "      <td>9586.0</td>\n",
       "    </tr>\n",
       "    <tr>\n",
       "      <td>247473</td>\n",
       "      <td>2016</td>\n",
       "      <td>4</td>\n",
       "      <td>4</td>\n",
       "      <td>10</td>\n",
       "      <td>32</td>\n",
       "      <td>32.000</td>\n",
       "      <td>39.8300</td>\n",
       "      <td>141.9000</td>\n",
       "      <td>40.0</td>\n",
       "      <td>4.3</td>\n",
       "      <td>9590.0</td>\n",
       "    </tr>\n",
       "  </tbody>\n",
       "</table>\n",
       "<p>247474 rows × 11 columns</p>\n",
       "</div>"
      ],
      "text/plain": [
       "        year  month  date  hour  minute  seconds      lat      long  depth  \\\n",
       "0       1990      1     1     2      19    5.018  42.2734  144.8460    8.0   \n",
       "1       1990      1     1     4       4   20.026  39.9358  142.5461   30.6   \n",
       "2       1990      1     1     7      14   11.038  36.7053  141.2990   18.6   \n",
       "3       1990      1     1     9       3   12.039  36.4859  140.6964   67.2   \n",
       "4       1990      1     1    12      31   25.018  35.0121  138.1440   22.6   \n",
       "...      ...    ...   ...   ...     ...      ...      ...       ...    ...   \n",
       "247469  2016      3    22     5      34   23.010  36.8300  140.5200   10.0   \n",
       "247470  2016      3    24     7      57   38.010  43.2500  145.6100  109.0   \n",
       "247471  2016      3    30     5       9   59.000  42.9100  144.7900   59.0   \n",
       "247472  2016      3    31     2      48   25.000  36.0600  140.2600   70.0   \n",
       "247473  2016      4     4    10      32   32.000  39.8300  141.9000   40.0   \n",
       "\n",
       "        class    time  \n",
       "0         2.9     0.0  \n",
       "1         3.0     0.0  \n",
       "2         2.7     0.0  \n",
       "3         4.3     0.0  \n",
       "4         2.5     0.0  \n",
       "...       ...     ...  \n",
       "247469    4.7  9577.0  \n",
       "247470    4.2  9579.0  \n",
       "247471    4.7  9585.0  \n",
       "247472    4.3  9586.0  \n",
       "247473    4.3  9590.0  \n",
       "\n",
       "[247474 rows x 11 columns]"
      ]
     },
     "execution_count": 13,
     "metadata": {},
     "output_type": "execute_result"
    }
   ],
   "source": [
    "data"
   ]
  },
  {
   "cell_type": "markdown",
   "metadata": {},
   "source": [
    "## Разбиение датасета по дням и по клеткам в сетке"
   ]
  },
  {
   "cell_type": "code",
   "execution_count": 14,
   "metadata": {},
   "outputs": [
    {
     "name": "stdout",
     "output_type": "stream",
     "text": [
      "torch.Size([9591, 1, 200, 250])\n"
     ]
    }
   ],
   "source": [
    "LEFT_BORDER = 0\n",
    "RIGHT_BORDER = 2000\n",
    "DOWN_BORDER = 0\n",
    "UP_BORDER = 2500\n",
    "\n",
    "N_CELLS_HOR = 200\n",
    "N_CELLS_VER = 250\n",
    "\n",
    "# print (data['time'][data.shape[0] - 1])\n",
    "# celled_data = torch.zeros ([int (data['time'][data.shape[0] - 1] + 1), 1, N_CELLS_HOR, N_CELLS_VER])\n",
    "# print (celled_data.shape)\n",
    "\n",
    "# for i in tqdm(range (data.shape[0])):\n",
    "#     if (data['x'][i] > LEFT_BORDER) and (data['x'][i] < RIGHT_BORDER) and (data['y'][i] > DOWN_BORDER) and (data['y'][i] < UP_BORDER):\n",
    "#         x = int (data['x'][i] / (RIGHT_BORDER - LEFT_BORDER) * N_CELLS_HOR)\n",
    "#         y = int (data['y'][i] / (UP_BORDER    - DOWN_BORDER) * N_CELLS_VER)\n",
    "#         celled_data[int(data['time'][i]), 0, x, y] = data['class'][i]\n",
    "# #         celled_data[int(data['time'][i]), 1, x, y] = data['depth'][i]\n",
    "        \n",
    "# # celled_data\n",
    "# del data\n",
    "        \n",
    "celled_data = torch.load(\"Data/celled_data_\"\n",
    "                         + str(N_CELLS_HOR)\n",
    "                         + \"x\"\n",
    "                         + str(N_CELLS_VER))\n",
    "print (celled_data.shape)\n"
   ]
  },
  {
   "cell_type": "code",
   "execution_count": 15,
   "metadata": {},
   "outputs": [
    {
     "name": "stdout",
     "output_type": "stream",
     "text": [
      "torch.Size([9591, 1, 200, 250])\n",
      "torch.float32\n"
     ]
    }
   ],
   "source": [
    "print (celled_data.shape)\n",
    "print (celled_data.dtype)"
   ]
  },
  {
   "cell_type": "code",
   "execution_count": 16,
   "metadata": {},
   "outputs": [],
   "source": [
    "OBSERVED_DAYS = 32     # 1 months\n",
    "DAYS_TO_PREDICT = 4\n",
    "STEP = 10\n",
    "\n",
    "# train_data   = torch.zeros ([0, OBSERVED_DAYS, N_CELLS_HOR, N_CELLS_VER])\n",
    "# train_result = torch.zeros ([0,             1, N_CELLS_HOR, N_CELLS_VER])\n",
    "# for i in tqdm(range (OBSERVED_DAYS, celled_data.shape[0] - DAYS_TO_PREDICT, STEP)):\n",
    "#     current_history = torch.zeros ([0, N_CELLS_HOR, N_CELLS_VER])\n",
    "#     for rest in range (OBSERVED_DAYS):   \n",
    "#         current_history = torch.cat((current_history, celled_data[i - rest - 1, :, :, :]), dim=0)\n",
    "#     current_history.unsqueeze(0)\n",
    "#     train_data = torch.cat((train_data, current_history), dim=0)\n",
    "    \n",
    "# train_data   = torch.zeros ([0, OBSERVED_DAYS, N_CELLS_HOR, N_CELLS_VER])\n",
    "# train_result = torch.zeros ([0,             1, N_CELLS_HOR, N_CELLS_VER])\n",
    "# for i in tqdm(range (OBSERVED_DAYS, celled_data.shape[0] - DAYS_TO_PREDICT, STEP)):\n",
    "#     current_history = torch.zeros ([0, N_CELLS_HOR, N_CELLS_VER])\n",
    "#     for rest in range (OBSERVED_DAYS):\n",
    "#         current_history = torch.cat((current_history, celled_data[i - rest, :, :, :]), dim=0)\n",
    "#     current_history = current_history.unsqueeze(0)\n",
    "#     train_data = torch.cat((train_data, current_history), dim=0)\n",
    "\n",
    "#     train_result = torch.cat ((train_result, torch.sum (celled_data[i:(i + DAYS_TO_PREDICT), :, :, :], dim=0, keepdim=True)), dim=0)\n",
    "\n",
    "#     print ('train_data', train_data.shape)\n",
    "#     print ('train_result       ', train_result.shape)\n",
    "    "
   ]
  },
  {
   "cell_type": "code",
   "execution_count": 17,
   "metadata": {},
   "outputs": [],
   "source": [
    "# print (train_data.shape)\n",
    "# print (train_result.shape)"
   ]
  },
  {
   "cell_type": "code",
   "execution_count": 18,
   "metadata": {},
   "outputs": [],
   "source": [
    "def show_one_day_image (tensor, day):\n",
    "    plt.imshow (tensor[day].squeeze(0), cmap=plt.cm.afmhot_r)\n",
    "    plt.colorbar()\n",
    "    \n",
    "def show_one_day_quakes (tensor, day):\n",
    "    state = tensor[day].squeeze(0)\n",
    "    print (state.shape)\n",
    "    X = []\n",
    "    Y = []\n",
    "    M = []\n",
    "    for i in range(state.shape[0]):\n",
    "        for j in range(state.shape[1]):\n",
    "            if (state[i][j] != 0):\n",
    "                X.append(i)\n",
    "                Y.append(j)\n",
    "                M.append(state[i][j].item())\n",
    "    print (X)\n",
    "    print (Y)\n",
    "    print (M)\n",
    "    \n",
    "    fig = plt.figure(figsize=(8, 10))\n",
    "    axes = fig.add_axes([0.1, 0.1, 0.8, 0.8])\n",
    "    plt.axis([0, state.shape[0], 0, state.shape[1]])\n",
    "    axes.scatter(X, Y, s=500, c=M, marker='.', cmap=plt.cm.Reds)\n",
    "#     plt.colorbar()\n",
    "    "
   ]
  },
  {
   "cell_type": "code",
   "execution_count": 19,
   "metadata": {},
   "outputs": [
    {
     "name": "stdout",
     "output_type": "stream",
     "text": [
      "torch.Size([200, 250])\n",
      "[86, 101, 122, 127, 132, 142, 146]\n",
      "[91, 89, 105, 107, 143, 142, 169]\n",
      "[2.5, 2.5, 4.300000190734863, 2.700000047683716, 3.0, 3.0, 2.9000000953674316]\n"
     ]
    },
    {
     "data": {
      "image/png": "[encoded data removed]",
      "text/plain": [
       "<Figure size 576x720 with 1 Axes>"
      ]
     },
     "metadata": {
      "needs_background": "light"
     },
     "output_type": "display_data"
    }
   ],
   "source": [
    "show_one_day_quakes (celled_data, 0)"
   ]
  },
  {
   "cell_type": "markdown",
   "metadata": {},
   "source": [
    "# Обучение"
   ]
  },
  {
   "cell_type": "code",
   "execution_count": 20,
   "metadata": {},
   "outputs": [
    {
     "name": "stdout",
     "output_type": "stream",
     "text": [
      "cuda:7\n"
     ]
    }
   ],
   "source": [
    "DEVICE_ID = 7\n",
    "DEVICE = torch.device('cuda:%d' % DEVICE_ID)\n",
    "print (DEVICE)\n",
    "torch.cuda.set_device(DEVICE_ID)"
   ]
  },
  {
   "cell_type": "code",
   "execution_count": 21,
   "metadata": {},
   "outputs": [],
   "source": [
    "def my_accuracy (input, target, threshold):\n",
    "    true = ((input>threshold) == target)\n",
    "    sum = torch.sum (true.float())\n",
    "    return sum/input.shape[0]/input.shape[1]/input.shape[2]/input.shape[3]\n",
    "\n",
    "def my_precision (input, target, threshold):\n",
    "    TP = torch.sum (((input>threshold) * target      ).float())\n",
    "    FP = torch.sum (((input>threshold) * (1 - target)).float())\n",
    "    return TP / (TP + FP)\n",
    "\n",
    "def my_recall (input, target, threshold):\n",
    "    TP = torch.sum ((     (input>threshold)  * target).float())\n",
    "    FN = torch.sum (((1 - (input>threshold)) * target).float())\n",
    "    return TP / (TP + FN)\n",
    "\n",
    "def my_precision_recall (input, target, threshold):\n",
    "    TP = torch.sum ((     (input>threshold)  * target      ).float())\n",
    "    FP = torch.sum ((     (input>threshold)  * (1 - target)).float())\n",
    "    FN = torch.sum (((~   (input>threshold)) * target      ).float())\n",
    "#     print ('TP = ', TP.item(), 'FP = ', FP.item(), 'FN = ', FN.item(), 'N = ', input.shape[0])\n",
    "    return TP / (TP + FP), TP / (TP + FN)"
   ]
  },
  {
   "cell_type": "markdown",
   "metadata": {},
   "source": [
    "### Создадим датасет\n",
    "#### (Может не влезть в оперативку (надо ~ 12Gb))"
   ]
  },
  {
   "cell_type": "code",
   "execution_count": 22,
   "metadata": {},
   "outputs": [],
   "source": [
    "OBSERVED_DAYS = 32     # 1 months\n",
    "DAYS_TO_PREDICT = 40\n",
    "STEP = 10\n",
    "TESTING_DAYS = 500"
   ]
  },
  {
   "cell_type": "code",
   "execution_count": 23,
   "metadata": {},
   "outputs": [],
   "source": [
    "# range (celled_data.shape[0] - DAYS_TO_PREDICT - TESTING_DAYS, celled_data.shape[0] - DAYS_TO_PREDICT, STEP)\n",
    "# range (OBSERVED_DAYS, celled_data.shape[0] - DAYS_TO_PREDICT - TESTING_DAYS, STEP)\n",
    "\n",
    "class EartquakeDataset_MSE (Dataset):     # MSELoss\n",
    "    def __init__(self, celled_data, indicies):\n",
    "        \n",
    "        self.data   = torch.zeros ([0, OBSERVED_DAYS, N_CELLS_HOR, N_CELLS_VER])\n",
    "        self.result = torch.zeros ([0,             1, N_CELLS_HOR, N_CELLS_VER])\n",
    "        for i in tqdm(indicies):\n",
    "            current_history = celled_data[(i - OBSERVED_DAYS):(i), :, :, :].squeeze(1)\n",
    "            current_history = current_history.unsqueeze(0)\n",
    "            self.data   = torch.cat((self.data, current_history), dim=0)\n",
    "\n",
    "            self.result = torch.cat ((self.result, torch.sum (celled_data[i:(i + DAYS_TO_PREDICT), :, :, :], dim=0, keepdim=True)), dim=0)\n",
    "      \n",
    "        print ('data_shape   = ', self.data.shape)\n",
    "        print ('result_shape = ', self.result.shape)\n",
    "        \n",
    "        \n",
    "        \n",
    "        assert (self.data.shape[0] == self.result.shape[0])\n",
    "        self.size = self.data.shape[0]\n",
    "        \n",
    "    def __len__ (self):\n",
    "        return self.size\n",
    "    \n",
    "    def __getitem__(self, idx):\n",
    "#         print ('data_shape = ', self.data[idx].shape)\n",
    "#         print ('result_shape = ', self.result[idx].shape)\n",
    "        return self.data[idx], self.result[idx]\n"
   ]
  },
  {
   "cell_type": "code",
   "execution_count": 24,
   "metadata": {},
   "outputs": [],
   "source": [
    "HEAVY_QUAKE_THRES = 5.0\n",
    "\n",
    "class EartquakeDataset_CE (Dataset):      #crossEntropyLoss\n",
    "    def __init__(self, celled_data, indicies):\n",
    "        \n",
    "        self.data   = torch.FloatTensor (0, OBSERVED_DAYS, N_CELLS_HOR, N_CELLS_VER)\n",
    "        self.result = torch.ByteTensor  (0,             1, N_CELLS_HOR, N_CELLS_VER)\n",
    "        for i in tqdm(indicies):\n",
    "            cur_history = celled_data[(i - OBSERVED_DAYS):(i), :, :, :].squeeze(1)\n",
    "            cur_history = cur_history.unsqueeze(0)\n",
    "            self.data   = torch.cat((self.data, cur_history), dim=0)\n",
    "            \n",
    "            cur_results = torch.sum ((celled_data[i:(i + DAYS_TO_PREDICT), :, :, :]>HEAVY_QUAKE_THRES), dim=0, keepdim=True)>0\n",
    "            self.result = torch.cat ((self.result, cur_results.byte()), dim=0)\n",
    "        \n",
    "        print ('data_shape   = ', self.data.shape)\n",
    "        print ('result_shape = ', self.result.shape)\n",
    "        \n",
    "        assert (self.data.shape[0] == self.result.shape[0])\n",
    "        self.size = self.data.shape[0]\n",
    "        \n",
    "    def __len__ (self):\n",
    "        return self.size\n",
    "    \n",
    "    def __getitem__(self, idx):\n",
    "#         print ('data_shape = ', self.data[idx].shape)\n",
    "#         print ('result_shape = ', self.result[idx].shape)\n",
    "        return self.data[idx], self.result[idx]\n"
   ]
  },
  {
   "cell_type": "code",
   "execution_count": 25,
   "metadata": {},
   "outputs": [
    {
     "data": {
      "application/vnd.jupyter.widget-view+json": {
       "model_id": "cd368475b7c54682ab13f5711053ffe9",
       "version_major": 2,
       "version_minor": 0
      },
      "text/plain": [
       "HBox(children=(IntProgress(value=0, max=902), HTML(value='')))"
      ]
     },
     "metadata": {},
     "output_type": "display_data"
    },
    {
     "name": "stdout",
     "output_type": "stream",
     "text": [
      "\n",
      "data_shape   =  torch.Size([902, 32, 200, 250])\n",
      "result_shape =  torch.Size([902, 1, 200, 250])\n"
     ]
    },
    {
     "data": {
      "application/vnd.jupyter.widget-view+json": {
       "model_id": "9a9584aeef8f48d6ba56a013857dec32",
       "version_major": 2,
       "version_minor": 0
      },
      "text/plain": [
       "HBox(children=(IntProgress(value=0, max=50), HTML(value='')))"
      ]
     },
     "metadata": {},
     "output_type": "display_data"
    },
    {
     "name": "stdout",
     "output_type": "stream",
     "text": [
      "\n",
      "data_shape   =  torch.Size([50, 32, 200, 250])\n",
      "result_shape =  torch.Size([50, 1, 200, 250])\n"
     ]
    }
   ],
   "source": [
    "earthquakes_dataset_train = EartquakeDataset_CE (celled_data,\n",
    "                                                 range (OBSERVED_DAYS, celled_data.shape[0] - DAYS_TO_PREDICT - TESTING_DAYS, STEP)\n",
    "                                                 )\n",
    "earthquakes_dataset_test  = EartquakeDataset_CE (celled_data,\n",
    "                                                 range (celled_data.shape[0] - DAYS_TO_PREDICT - TESTING_DAYS, celled_data.shape[0] - DAYS_TO_PREDICT, STEP)\n",
    "                                                 )"
   ]
  },
  {
   "cell_type": "code",
   "execution_count": 26,
   "metadata": {},
   "outputs": [],
   "source": [
    "# earthquakes_dataset_train = EartquakeDataset_MSE (celled_data,\n",
    "#                                                  range (OBSERVED_DAYS, celled_data.shape[0] - DAYS_TO_PREDICT - TESTING_DAYS, STEP)\n",
    "#                                                  )\n",
    "\n",
    "# earthquakes_dataset_test  = EartquakeDataset_MSE (celled_data,\n",
    "#                                                  range (celled_data.shape[0] - DAYS_TO_PREDICT - TESTING_DAYS, celled_data.shape[0] - DAYS_TO_PREDICT, STEP)\n",
    "#                                                  )"
   ]
  },
  {
   "cell_type": "code",
   "execution_count": 27,
   "metadata": {},
   "outputs": [
    {
     "name": "stdout",
     "output_type": "stream",
     "text": [
      "torch.Size([902, 32, 200, 250])\n",
      "torch.Size([902, 1, 200, 250])\n",
      "torch.Size([50, 32, 200, 250])\n",
      "torch.Size([50, 1, 200, 250])\n",
      "torch.float32\n",
      "torch.uint8\n"
     ]
    }
   ],
   "source": [
    "print (earthquakes_dataset_train.data.shape)\n",
    "print (earthquakes_dataset_train.result.shape)\n",
    "\n",
    "print (earthquakes_dataset_test .data.shape)\n",
    "print (earthquakes_dataset_test .result.shape)\n",
    "\n",
    "print (earthquakes_dataset_train.data.dtype)\n",
    "print (earthquakes_dataset_test .result.dtype)"
   ]
  },
  {
   "cell_type": "code",
   "execution_count": 28,
   "metadata": {},
   "outputs": [],
   "source": [
    "earthquakes_dataloader_train = DataLoader(earthquakes_dataset_train,\n",
    "                                         batch_size=16,\n",
    "                                         shuffle=True,\n",
    "                                         num_workers=4)\n",
    "\n",
    "earthquakes_dataloader_test  = DataLoader(earthquakes_dataset_test,\n",
    "                                         batch_size=1,\n",
    "                                         shuffle=False,\n",
    "                                         num_workers=1)"
   ]
  },
  {
   "cell_type": "markdown",
   "metadata": {},
   "source": [
    "### Создадим саму сеть"
   ]
  },
  {
   "cell_type": "code",
   "execution_count": 29,
   "metadata": {},
   "outputs": [
    {
     "name": "stdout",
     "output_type": "stream",
     "text": [
      "torch.Size([1, 200, 250])\n"
     ]
    }
   ],
   "source": [
    "mean_val = (celled_data>HEAVY_QUAKE_THRES).float().mean(dim=0)\n",
    "print (mean_val.shape)"
   ]
  },
  {
   "cell_type": "code",
   "execution_count": 30,
   "metadata": {},
   "outputs": [],
   "source": [
    "class conv_block(nn.Module):\n",
    "    def __init__(self, in_channels, out_channels, kernel_size, stride=1, padding=1):\n",
    "        super(conv_block, self).__init__()\n",
    "        \n",
    "        self.CONV  = nn.Conv2d    (in_channels,\n",
    "                                   out_channels,\n",
    "                                   kernel_size=kernel_size,\n",
    "                                   stride=stride,\n",
    "                                   padding=padding,\n",
    "                                   bias=False)             # think about it later\n",
    "        \n",
    "        self.BNORM =nn.BatchNorm2d(out_channels,\n",
    "                                   eps=1e-05,\n",
    "                                   momentum=0.1,\n",
    "                                   affine=False)\n",
    "        self.RELU  = nn.ReLU ()\n",
    "        \n",
    "        self.MAXPOOL = nn.MaxPool2d(3,\n",
    "                                    stride=1,\n",
    "                                    padding=1,\n",
    "                                    dilation=1)\n",
    "        \n",
    "    def forward(self, x):\n",
    "        #print ('sizeof(x) = ', x.size())\n",
    "        #print ('sizeof(xprev) = ', xprev.size())    \n",
    "        \n",
    "        x = self.CONV   (x)\n",
    "        x = self.BNORM  (x)\n",
    "        x = self.RELU   (x)\n",
    "        x = self.MAXPOOL(x)\n",
    "        \n",
    "        return x"
   ]
  },
  {
   "cell_type": "code",
   "execution_count": 31,
   "metadata": {},
   "outputs": [],
   "source": [
    "class ConvNetwork_CE (nn.Module):\n",
    "    \n",
    "    def __init__(self, mean_val, reverse_log_bias, device):\n",
    "        super(ConvNetwork_CE, self).__init__()\n",
    "        \n",
    "        self.mean_val = mean_val.to(device)\n",
    "        self.prior = torch.log(torch.cat([1-mean_val, mean_val], dim=0)).to(device).unsqueeze(0)\n",
    "        self.prior = self.prior + reverse_log_bias\n",
    "        \n",
    "        self.features = nn.Sequential()\n",
    "        \n",
    "        self.features.add_module('conv1', conv_block(OBSERVED_DAYS, 32, 3))\n",
    "        self.features.add_module('conv2', conv_block(           32, 16, 3))\n",
    "        self.features.add_module('conv3', conv_block(           16,  8, 3))\n",
    "        self.features.add_module('conv4', conv_block(            8,  4, 3))\n",
    "        self.features.add_module('conv5', conv_block(            4,  2, 3))\n",
    "        \n",
    "#         N_CELLS_HOR = 200\n",
    "#         N_CELLS_VER = 250\n",
    "        # might be a good idea to add an extra full connected layer\n",
    "        # max pooling попробовать - между конволюциями\n",
    "        # в конце фулл конектед\n",
    "        self.FC1     = nn.Linear  (2, 2)\n",
    "        self.glob_relu = nn.ReLU  ()\n",
    "        self.FC2     = nn.Linear  (2, 2)\n",
    "        \n",
    "        self.SOFTMAX = nn.Softmax (dim=1);\n",
    "        \n",
    "    def forward(self, x):\n",
    "#         print ('input  : ', x.shape)\n",
    "        x = self.features(x)\n",
    "        x = x.transpose (dim0=1, dim1=3)\n",
    "        x = self.FC1  (x)\n",
    "        x = self.glob_relu (x)\n",
    "        x = self.FC2  (x)\n",
    "        x = x.transpose (dim0=1, dim1=3)\n",
    "        x = self.SOFTMAX (self.prior + x)\n",
    "#         print ('output : ', x.shape)\n",
    "        return x\n",
    "        "
   ]
  },
  {
   "cell_type": "markdown",
   "metadata": {},
   "source": [
    "#### Функция тренеровки"
   ]
  },
  {
   "cell_type": "code",
   "execution_count": 32,
   "metadata": {},
   "outputs": [],
   "source": [
    "def train_network_CE (network, \n",
    "                      device,\n",
    "                      dataloader_train,\n",
    "                      dataloader_test,\n",
    "                      epochs=200,\n",
    "                      learning_rate=0.1,\n",
    "                      earthquake_weight=1.):\n",
    "    \n",
    "    if (SAVE_INFO == True):\n",
    "        epochs_file = open (EXPERIMENT_DIR + 'Epochs_info.txt', 'w')\n",
    "    \n",
    "    loss_acc  = []\n",
    "    test_acc  = []\n",
    "    test_prec = []\n",
    "    test_rec  = []\n",
    "    net = network.to(device)\n",
    "\n",
    "    weights = torch.tensor([1., earthquake_weight], dtype = torch.float).to(device)\n",
    "    criterion = nn.CrossEntropyLoss(weights)\n",
    "    \n",
    "    optimizer = torch.optim.SGD(network.parameters(), lr=learning_rate, weight_decay=0.0001, momentum=0.9)\n",
    "\n",
    "    for epoch in tqdm(range(epochs)):  # loop over the dataset multiple times\n",
    "        if epoch == epochs/2:\n",
    "            optimizer = torch.optim.SGD(network.parameters(), lr=learning_rate/10, weight_decay=0.0001, momentum=0.9)\n",
    "            print ('Changed learning rate to ', learning_rate/10)\n",
    "        elif epoch == epochs*3/4:\n",
    "            optimizer = torch.optim.SGD(network.parameters(), lr=learning_rate/100, weight_decay=0.0001, momentum=0.9) \n",
    "            print ('Changed learning rate to ', learning_rate/100)\n",
    "            \n",
    "        net = net.train()        \n",
    "        epoch_accuracy = 0.0\n",
    "        epoch_elems = 0\n",
    "        for data in dataloader_train:\n",
    "            \n",
    "            inputs = data[0].to(device)\n",
    "            labels = data[1].to(device)\n",
    "#             print ('inputs_shape = ', inputs.shape)\n",
    "#             print ('labels_shape = ', labels.shape)\n",
    "\n",
    "            # zero the parameter gradients\n",
    "            optimizer.zero_grad()\n",
    "\n",
    "            # forward + backward + optimize\n",
    "            outputs = net(inputs)\n",
    "#             print ('outputs : ', outputs.shape, outputs.dtype)\n",
    "#             print ('labels  : ', labels.shape , labels.dtype)\n",
    "#             outputs = torch.cat ((1-outputs, outputs), dim=1)\n",
    "#             print ('outputs ', outputs.shape, '   [', outputs[1, 0, 12, 12], outputs[1, 1, 12, 12], ']')\n",
    "            loss = criterion(outputs, labels.squeeze(1).long())\n",
    "            loss.backward()\n",
    "            optimizer.step()\n",
    "\n",
    "#             print (loss)\n",
    "            epoch_elems    += labels.shape[0]\n",
    "            epoch_accuracy += loss.item()*labels.shape[0]\n",
    "\n",
    "        epoch_accuracy /= epoch_elems\n",
    "        loss_acc.append(epoch_accuracy)\n",
    "        \n",
    "        \n",
    "#         calculating test accuracy, precision and recall\n",
    "        epoch_accuracy  = 0.0\n",
    "        epoch_precision = 0.0\n",
    "        epoch_recall    = 0.0\n",
    "        epoch_elems = 0\n",
    "        for data in dataloader_test:\n",
    "            inputs = data[0].to(device)\n",
    "            labels = data[1].to(device)   \n",
    "            outputs = net(inputs)\n",
    "#             find_mistake(outputs)\n",
    "            accuracy = my_accuracy (outputs[:, 1, :, :].unsqueeze(1), labels, 0.5)\n",
    "            precision, recall = my_precision_recall (outputs[:, 1, :, :].unsqueeze(1).byte(), labels.byte(), 0.5)\n",
    "#             accuracy2 = my_accuracy (outputs, labels, 1.0)\n",
    "            \n",
    "            epoch_elems     += labels.shape[0]\n",
    "            epoch_accuracy  += accuracy.item()  * labels.shape[0]\n",
    "            epoch_precision += precision.item() * labels.shape[0]\n",
    "            epoch_recall    += recall.item()    * labels.shape[0]\n",
    "\n",
    "#         epoch_accuracy /= epoch_elems\n",
    "        test_acc .append (epoch_accuracy  / epoch_elems)\n",
    "        test_prec.append (epoch_precision / epoch_elems)\n",
    "        test_rec .append (epoch_recall    / epoch_elems)\n",
    "        \n",
    "        \n",
    "        print('Ep :', epoch,\n",
    "              'loss_tr :' , round (loss_acc [-1], 7),\n",
    "              'acc_ts :'  , round (test_acc [-1], 4),\n",
    "              'prec_ts :' , round (test_prec[-1], 4),\n",
    "              'rec_ts :'  , round (test_rec [-1], 4))\n",
    "        \n",
    "        if (SAVE_INFO == True):\n",
    "            print('Ep :', epoch,\n",
    "                  'loss_tr :' , round (loss_acc [-1], 7),\n",
    "                  'acc_ts :'  , round (test_acc [-1], 4),\n",
    "                  'prec_ts :' , round (test_prec[-1], 4),\n",
    "                  'rec_ts :'  , round (test_rec [-1], 4)\n",
    "                  , file=epochs_file)\n",
    "\n",
    "\n",
    "    print('Finished Training')\n",
    "    \n",
    "#     plt.plot(train_acc, label='Train')\n",
    "    plt.plot(loss_acc , label='Loss')\n",
    "    plt.legend()\n",
    "    if (SAVE_INFO == True):\n",
    "        plt.savefig(EXPERIMENT_DIR + 'Loss_train.png', format='png', dpi=100)\n",
    "    plt.show()\n",
    "    \n",
    "    plt.plot(test_acc , label='Test Accuracy')\n",
    "    plt.legend()\n",
    "    if (SAVE_INFO == True):\n",
    "        plt.savefig(EXPERIMENT_DIR + 'Accuracy_test.png', format='png', dpi=100)\n",
    "    plt.show()\n",
    "    \n",
    "    plt.plot(test_prec, label='Test Precision')\n",
    "    plt.legend()\n",
    "    if (SAVE_INFO == True):\n",
    "        plt.savefig(EXPERIMENT_DIR + 'Precision_test.png', format='png', dpi=100)\n",
    "    plt.show()\n",
    "    \n",
    "    plt.plot(test_rec , label='Test Recall')\n",
    "    plt.legend()\n",
    "    if (SAVE_INFO == True):\n",
    "        plt.savefig(EXPERIMENT_DIR + 'Recall_test.png', format='png', dpi=100)\n",
    "    plt.show()\n",
    "    \n",
    "    if (SAVE_INFO == True):\n",
    "        epochs_file.close()"
   ]
  },
  {
   "cell_type": "code",
   "execution_count": null,
   "metadata": {},
   "outputs": [],
   "source": []
  },
  {
   "cell_type": "code",
   "execution_count": 33,
   "metadata": {},
   "outputs": [],
   "source": [
    "LEARNING_RATE = 0.003\n",
    "N_EPOCHS = 80\n",
    "EARTHQUAKE_WEIGHT = 10000.\n",
    "REVERSE_LOG_BIAS = 0."
   ]
  },
  {
   "cell_type": "code",
   "execution_count": 34,
   "metadata": {},
   "outputs": [],
   "source": [
    "earthquake_network = ConvNetwork_CE (mean_val, REVERSE_LOG_BIAS, DEVICE)"
   ]
  },
  {
   "cell_type": "code",
   "execution_count": 35,
   "metadata": {},
   "outputs": [
    {
     "data": {
      "application/vnd.jupyter.widget-view+json": {
       "model_id": "7fd00112c340402f8ad6960ce98c3799",
       "version_major": 2,
       "version_minor": 0
      },
      "text/plain": [
       "HBox(children=(IntProgress(value=0, max=80), HTML(value='')))"
      ]
     },
     "metadata": {},
     "output_type": "display_data"
    },
    {
     "name": "stdout",
     "output_type": "stream",
     "text": [
      "Ep : 0 loss_tr : 0.8050857 acc_ts : 0.9999 prec_ts : nan rec_ts : nan\n",
      "Ep : 1 loss_tr : 0.8071542 acc_ts : 0.9999 prec_ts : nan rec_ts : nan\n",
      "Ep : 2 loss_tr : 0.8058265 acc_ts : 0.9999 prec_ts : nan rec_ts : nan\n",
      "Ep : 3 loss_tr : 0.8008128 acc_ts : 0.9999 prec_ts : nan rec_ts : nan\n",
      "Ep : 4 loss_tr : 0.8056211 acc_ts : 0.9999 prec_ts : nan rec_ts : nan\n",
      "Ep : 5 loss_tr : 0.8073072 acc_ts : 0.9999 prec_ts : nan rec_ts : nan\n",
      "Ep : 6 loss_tr : 0.8054705 acc_ts : 0.9999 prec_ts : nan rec_ts : nan\n",
      "Ep : 7 loss_tr : 0.80759 acc_ts : 0.9999 prec_ts : nan rec_ts : nan\n",
      "Ep : 8 loss_tr : 0.8025618 acc_ts : 0.9999 prec_ts : nan rec_ts : nan\n",
      "Ep : 9 loss_tr : 0.8047081 acc_ts : 0.9999 prec_ts : nan rec_ts : nan\n",
      "Ep : 10 loss_tr : 0.8062094 acc_ts : 0.9999 prec_ts : nan rec_ts : nan\n",
      "Ep : 11 loss_tr : 0.8072132 acc_ts : 0.9999 prec_ts : nan rec_ts : nan\n",
      "Ep : 12 loss_tr : 0.802183 acc_ts : 0.9999 prec_ts : nan rec_ts : nan\n",
      "Ep : 13 loss_tr : 0.8048247 acc_ts : 0.9999 prec_ts : nan rec_ts : nan\n",
      "Ep : 14 loss_tr : 0.8048654 acc_ts : 0.9999 prec_ts : nan rec_ts : nan\n",
      "Ep : 15 loss_tr : 0.8027294 acc_ts : 0.9999 prec_ts : nan rec_ts : nan\n",
      "Ep : 16 loss_tr : 0.8058382 acc_ts : 0.9999 prec_ts : nan rec_ts : nan\n",
      "Ep : 17 loss_tr : 0.8052396 acc_ts : 0.9999 prec_ts : nan rec_ts : nan\n",
      "Ep : 18 loss_tr : 0.8027368 acc_ts : 0.9999 prec_ts : nan rec_ts : nan\n",
      "Ep : 19 loss_tr : 0.8059003 acc_ts : 0.9999 prec_ts : nan rec_ts : nan\n",
      "Ep : 20 loss_tr : 0.8057975 acc_ts : 0.9999 prec_ts : nan rec_ts : nan\n",
      "Ep : 21 loss_tr : 0.8042736 acc_ts : 0.9999 prec_ts : nan rec_ts : nan\n",
      "Ep : 22 loss_tr : 0.8052515 acc_ts : 0.9999 prec_ts : nan rec_ts : nan\n",
      "Ep : 23 loss_tr : 0.8043075 acc_ts : 0.9999 prec_ts : nan rec_ts : nan\n",
      "Ep : 24 loss_tr : 0.8067227 acc_ts : 0.9999 prec_ts : nan rec_ts : nan\n",
      "Ep : 25 loss_tr : 0.8018893 acc_ts : 0.9999 prec_ts : nan rec_ts : nan\n",
      "Ep : 26 loss_tr : 0.807821 acc_ts : 0.9999 prec_ts : nan rec_ts : nan\n",
      "Ep : 27 loss_tr : 0.8063071 acc_ts : 0.9999 prec_ts : nan rec_ts : nan\n",
      "Ep : 28 loss_tr : 0.8039227 acc_ts : 0.9999 prec_ts : nan rec_ts : nan\n",
      "Ep : 29 loss_tr : 0.8052336 acc_ts : 0.9999 prec_ts : nan rec_ts : nan\n",
      "Ep : 30 loss_tr : 0.8066722 acc_ts : 0.9999 prec_ts : nan rec_ts : nan\n",
      "Ep : 31 loss_tr : 0.8031193 acc_ts : 0.9999 prec_ts : nan rec_ts : nan\n",
      "Ep : 32 loss_tr : 0.8058868 acc_ts : 0.9999 prec_ts : nan rec_ts : nan\n",
      "Ep : 33 loss_tr : 0.8052369 acc_ts : 0.9999 prec_ts : nan rec_ts : nan\n",
      "Ep : 34 loss_tr : 0.8043805 acc_ts : 0.9999 prec_ts : nan rec_ts : nan\n",
      "Ep : 35 loss_tr : 0.8048772 acc_ts : 0.9999 prec_ts : nan rec_ts : nan\n",
      "Ep : 36 loss_tr : 0.8008396 acc_ts : 0.9999 prec_ts : nan rec_ts : nan\n",
      "Ep : 37 loss_tr : 0.8049038 acc_ts : 0.9999 prec_ts : nan rec_ts : nan\n",
      "Ep : 38 loss_tr : 0.8024784 acc_ts : 0.9999 prec_ts : nan rec_ts : nan\n",
      "Ep : 39 loss_tr : 0.8020674 acc_ts : 0.9999 prec_ts : nan rec_ts : nan\n",
      "Changed learning rate to  0.00030000000000000003\n",
      "Ep : 40 loss_tr : 0.8006365 acc_ts : 0.9999 prec_ts : nan rec_ts : nan\n",
      "Ep : 41 loss_tr : 0.8049364 acc_ts : 0.9999 prec_ts : nan rec_ts : nan\n",
      "Ep : 42 loss_tr : 0.8042968 acc_ts : 0.9999 prec_ts : nan rec_ts : nan\n",
      "Ep : 43 loss_tr : 0.8035469 acc_ts : 0.9999 prec_ts : nan rec_ts : nan\n",
      "Ep : 44 loss_tr : 0.8037712 acc_ts : 0.9999 prec_ts : nan rec_ts : nan\n",
      "Ep : 45 loss_tr : 0.8049087 acc_ts : 0.9999 prec_ts : nan rec_ts : nan\n",
      "Ep : 46 loss_tr : 0.8065703 acc_ts : 0.9999 prec_ts : nan rec_ts : nan\n",
      "Ep : 47 loss_tr : 0.8060149 acc_ts : 0.9999 prec_ts : nan rec_ts : nan\n",
      "Ep : 48 loss_tr : 0.8040017 acc_ts : 0.9999 prec_ts : nan rec_ts : nan\n",
      "Ep : 49 loss_tr : 0.8054571 acc_ts : 0.9999 prec_ts : nan rec_ts : nan\n",
      "Ep : 50 loss_tr : 0.8047563 acc_ts : 0.9999 prec_ts : nan rec_ts : nan\n",
      "Ep : 51 loss_tr : 0.8024213 acc_ts : 0.9999 prec_ts : nan rec_ts : nan\n",
      "Ep : 52 loss_tr : 0.8017964 acc_ts : 0.9999 prec_ts : nan rec_ts : nan\n",
      "Ep : 53 loss_tr : 0.8038921 acc_ts : 0.9999 prec_ts : nan rec_ts : nan\n",
      "Ep : 54 loss_tr : 0.8049487 acc_ts : 0.9999 prec_ts : nan rec_ts : nan\n",
      "Ep : 55 loss_tr : 0.8025898 acc_ts : 0.9999 prec_ts : nan rec_ts : nan\n",
      "Ep : 56 loss_tr : 0.8011773 acc_ts : 0.9999 prec_ts : nan rec_ts : nan\n",
      "Ep : 57 loss_tr : 0.8041515 acc_ts : 0.9999 prec_ts : nan rec_ts : nan\n",
      "Ep : 58 loss_tr : 0.80726 acc_ts : 0.9999 prec_ts : nan rec_ts : nan\n",
      "Ep : 59 loss_tr : 0.8062264 acc_ts : 0.9999 prec_ts : nan rec_ts : nan\n",
      "Changed learning rate to  3e-05\n",
      "Ep : 60 loss_tr : 0.8026897 acc_ts : 0.9999 prec_ts : nan rec_ts : nan\n",
      "Ep : 61 loss_tr : 0.8052258 acc_ts : 0.9999 prec_ts : nan rec_ts : nan\n",
      "Ep : 62 loss_tr : 0.8032419 acc_ts : 0.9999 prec_ts : nan rec_ts : nan\n",
      "Ep : 63 loss_tr : 0.7995806 acc_ts : 0.9999 prec_ts : nan rec_ts : nan\n",
      "Ep : 64 loss_tr : 0.8019517 acc_ts : 0.9999 prec_ts : nan rec_ts : nan\n",
      "Ep : 65 loss_tr : 0.8067032 acc_ts : 0.9999 prec_ts : nan rec_ts : nan\n",
      "Ep : 66 loss_tr : 0.8050729 acc_ts : 0.9999 prec_ts : nan rec_ts : nan\n",
      "Ep : 67 loss_tr : 0.805847 acc_ts : 0.9999 prec_ts : nan rec_ts : nan\n",
      "Ep : 68 loss_tr : 0.8068981 acc_ts : 0.9999 prec_ts : nan rec_ts : nan\n",
      "Ep : 69 loss_tr : 0.8072685 acc_ts : 0.9999 prec_ts : nan rec_ts : nan\n",
      "Ep : 70 loss_tr : 0.8058323 acc_ts : 0.9999 prec_ts : nan rec_ts : nan\n",
      "Ep : 71 loss_tr : 0.8041331 acc_ts : 0.9999 prec_ts : nan rec_ts : nan\n",
      "Ep : 72 loss_tr : 0.8071522 acc_ts : 0.9999 prec_ts : nan rec_ts : nan\n",
      "Ep : 73 loss_tr : 0.8063445 acc_ts : 0.9999 prec_ts : nan rec_ts : nan\n",
      "Ep : 74 loss_tr : 0.8011989 acc_ts : 0.9999 prec_ts : nan rec_ts : nan\n",
      "Ep : 75 loss_tr : 0.8073365 acc_ts : 0.9999 prec_ts : nan rec_ts : nan\n",
      "Ep : 76 loss_tr : 0.8049519 acc_ts : 0.9999 prec_ts : nan rec_ts : nan\n",
      "Ep : 77 loss_tr : 0.8063904 acc_ts : 0.9999 prec_ts : nan rec_ts : nan\n",
      "Ep : 78 loss_tr : 0.8033882 acc_ts : 0.9999 prec_ts : nan rec_ts : nan\n",
      "Ep : 79 loss_tr : 0.8034479 acc_ts : 0.9999 prec_ts : nan rec_ts : nan\n",
      "\n",
      "Finished Training\n"
     ]
    },
    {
     "data": {
      "image/png": "[encoded data removed]",
      "text/plain": [
       "<Figure size 432x288 with 1 Axes>"
      ]
     },
     "metadata": {
      "needs_background": "light"
     },
     "output_type": "display_data"
    },
    {
     "data": {
      "image/png": "[encoded data removed]",
      "text/plain": [
       "<Figure size 432x288 with 1 Axes>"
      ]
     },
     "metadata": {
      "needs_background": "light"
     },
     "output_type": "display_data"
    },
    {
     "data": {
      "image/png": "[encoded data removed]",
      "text/plain": [
       "<Figure size 432x288 with 1 Axes>"
      ]
     },
     "metadata": {
      "needs_background": "light"
     },
     "output_type": "display_data"
    },
    {
     "data": {
      "image/png": "[encoded data removed]",
      "text/plain": [
       "<Figure size 432x288 with 1 Axes>"
      ]
     },
     "metadata": {
      "needs_background": "light"
     },
     "output_type": "display_data"
    }
   ],
   "source": [
    "train_network_CE  (earthquake_network,\n",
    "                   torch.device(DEVICE),\n",
    "                   earthquakes_dataloader_train,\n",
    "                   earthquakes_dataloader_test,\n",
    "                   epochs=N_EPOCHS,\n",
    "                   learning_rate=LEARNING_RATE,\n",
    "                   earthquake_weight=EARTHQUAKE_WEIGHT\n",
    "                   )"
   ]
  },
  {
   "cell_type": "code",
   "execution_count": 36,
   "metadata": {},
   "outputs": [],
   "source": [
    "def print_ROCinfo (model, dataLoader, device, alpha=0.5, n_dots=101):\n",
    "    model = model.to(device)\n",
    "    \n",
    "    \n",
    "    threshold_massive = np.linspace (0, n_dots-1, n_dots, dtype=int)\n",
    "    TP_massive = np.zeros (n_dots)\n",
    "    FP_massive = np.zeros (n_dots)\n",
    "    FN_massive = np.zeros (n_dots)\n",
    "    TN_massive = np.zeros (n_dots)\n",
    "    \n",
    "    for data in dataLoader:\n",
    "        inputs = data[0].to(device)\n",
    "        labels = data[1].to(device).byte()\n",
    "\n",
    "        outputs = model(inputs)\n",
    "        \n",
    "        for threshold in threshold_massive:\n",
    "            prediction = ((outputs[:, 1, :, :].unsqueeze(1))>(threshold/n_dots)).byte()\n",
    "            TP_massive[threshold] += torch.sum (prediction       * labels      ).float()\n",
    "            FP_massive[threshold] += torch.sum (prediction       * (1 - labels)).float()\n",
    "            FN_massive[threshold] += torch.sum ((1 - prediction) * labels      ).float()\n",
    "            TN_massive[threshold] += torch.sum ((1 - prediction) * (1 - labels)).float()\n",
    "            \n",
    "    threshold_massive = threshold_massive / (n_dots-1)\n",
    "    precision_massive = TP_massive / (TP_massive + FP_massive)\n",
    "    TPR_massive       = TP_massive / (TP_massive + FN_massive)\n",
    "    FPR_massive       = FP_massive / (FP_massive + TN_massive)\n",
    "\n",
    "    sum_events = TP_massive[int(len(TP_massive)/2)] + FP_massive[int(len(FP_massive)/2)] + FN_massive[int(len(FN_massive)/2)] + TN_massive[int(len(TN_massive)/2)] \n",
    "    print ('TP = ', round(TP_massive[int(len(TP_massive)/2)] / sum_events, 6), '%')\n",
    "    print ('FP = ', round(FP_massive[int(len(FP_massive)/2)] / sum_events, 6), '%')\n",
    "    print ('FN = ', round(FN_massive[int(len(FN_massive)/2)] / sum_events, 6), '%')\n",
    "    print ('TN = ', round(TN_massive[int(len(TN_massive)/2)] / sum_events, 6), '%')\n",
    "    \n",
    "    if (SAVE_INFO == True):\n",
    "        print ('TP = ', round(TP_massive[int(len(TP_massive)/2)] / sum_events, 6), '%', file=INFO_FILE)\n",
    "        print ('FP = ', round(FP_massive[int(len(FP_massive)/2)] / sum_events, 6), '%', file=INFO_FILE)\n",
    "        print ('FN = ', round(FN_massive[int(len(FN_massive)/2)] / sum_events, 6), '%', file=INFO_FILE)\n",
    "        print ('TN = ', round(TN_massive[int(len(TN_massive)/2)] / sum_events, 6), '%', file=INFO_FILE)\n",
    "    \n",
    "    # plot 1 precision\n",
    "    fig1 = plt.figure(figsize=(10, 6))\n",
    "\n",
    "    axes = fig1.add_axes([0.1, 0.1, 0.8, 0.8])\n",
    "\n",
    "    axes.plot(threshold_massive, precision_massive, color='green', marker='^')\n",
    "\n",
    "    axes.set_xlabel('threshold')\n",
    "    axes.set_ylabel('precision')\n",
    "\n",
    "    if (SAVE_INFO == True):\n",
    "        plt.savefig(EXPERIMENT_DIR + 'Precision_from_threshold.png', format='png', dpi=100)\n",
    "    plt.show()\n",
    "    \n",
    "    # plot 2 recall\n",
    "    fig = plt.figure(figsize=(10, 6))\n",
    "\n",
    "    axes = fig.add_axes([0.1, 0.1, 0.8, 0.8])\n",
    "\n",
    "    axes.plot(threshold_massive, TPR_massive, color='green', marker='^')\n",
    "\n",
    "    axes.set_xlabel('threshold')\n",
    "    axes.set_ylabel('recall')\n",
    "    \n",
    "    if (SAVE_INFO == True):\n",
    "        plt.savefig(EXPERIMENT_DIR + 'Recall_from_threshold.png', format='png', dpi=100)\n",
    "    plt.show()\n",
    "    \n",
    "    # plot 3 ROC-curve\n",
    "    fig = plt.figure(figsize=(8, 8))\n",
    "\n",
    "    axes = fig.add_axes([0.1, 0.1, 0.8, 0.8])\n",
    "\n",
    "    axes.plot(FPR_massive, TPR_massive, 'orange', marker = '^')\n",
    "    axes.plot (range(2), range(2), 'grey', ls='--')\n",
    "\n",
    "    axes.set_xlabel('FPR')\n",
    "    axes.set_ylabel('TPR (recall)')\n",
    "    axes.set_title('ROC-curve')\n",
    "\n",
    "    if (SAVE_INFO == True):\n",
    "        plt.savefig(EXPERIMENT_DIR + 'ROC_curve.png', format='png', dpi=100)\n",
    "    plt.show()\n",
    "    \n",
    "    "
   ]
  },
  {
   "cell_type": "code",
   "execution_count": 37,
   "metadata": {},
   "outputs": [],
   "source": [
    "def print_INFO_to_file():\n",
    "    if (SAVE_INFO == True):\n",
    "        print ('ORIGIN_LATITUDE        =', ORIGIN_LATITUDE                       , file=INFO_FILE)\n",
    "        print ('ORIGIN_LONGITUDE       =', ORIGIN_LONGITUDE                      , file=INFO_FILE)\n",
    "        print ('LEFT_BORDER            =', LEFT_BORDER                           , file=INFO_FILE)\n",
    "        print ('RIGHT_BORDER           =', RIGHT_BORDER                          , file=INFO_FILE)\n",
    "        print ('DOWN_BORDER            =', DOWN_BORDER                           , file=INFO_FILE)\n",
    "        print ('UP_BORDER              =', UP_BORDER                             , file=INFO_FILE)\n",
    "        print ('N_CELLS_HOR            =', N_CELLS_HOR                           , file=INFO_FILE)\n",
    "        print ('N_CELLS_VER            =', N_CELLS_VER                           , file=INFO_FILE)\n",
    "        print (' '                                                               , file=INFO_FILE)\n",
    "        print ('OBSERVED_DAYS          =', OBSERVED_DAYS                         , file=INFO_FILE)\n",
    "        print ('DAYS_TO_PREDICT        =', DAYS_TO_PREDICT                       , file=INFO_FILE)\n",
    "        print ('STEP                   =', STEP                                  , file=INFO_FILE)\n",
    "        print ('TESTING_DAYS           =', TESTING_DAYS                          , file=INFO_FILE)\n",
    "        print ('HEAVY_QUAKE_THRES      =', HEAVY_QUAKE_THRES                     , file=INFO_FILE)\n",
    "        print ('LEARNING_RATE          =', LEARNING_RATE                         , file=INFO_FILE)\n",
    "        print ('N_EPOCHS               =', N_EPOCHS                              , file=INFO_FILE)\n",
    "        print ('EARTHQUAKE_WEIGHT      =', EARTHQUAKE_WEIGHT                     , file=INFO_FILE)\n",
    "        print ('TRAIN_SHAPE            =', earthquakes_dataset_train.data.shape  , file=INFO_FILE)\n",
    "        print ('TEST__SHAPE            =', earthquakes_dataset_test .result.shape, file=INFO_FILE)\n",
    "        \n",
    "#         print ('', , file=INFO_FILE)\n"
   ]
  },
  {
   "cell_type": "code",
   "execution_count": 38,
   "metadata": {},
   "outputs": [
    {
     "name": "stderr",
     "output_type": "stream",
     "text": [
      "/home/romakail/anaconda3/lib/python3.7/site-packages/ipykernel_launcher.py:25: RuntimeWarning: invalid value encountered in true_divide\n"
     ]
    },
    {
     "name": "stdout",
     "output_type": "stream",
     "text": [
      "TP =  0.0 %\n",
      "FP =  0.0 %\n",
      "FN =  5.4e-05 %\n",
      "TN =  0.999946 %\n"
     ]
    },
    {
     "data": {
      "image/png": "[encoded data removed]",
      "text/plain": [
       "<Figure size 720x432 with 1 Axes>"
      ]
     },
     "metadata": {
      "needs_background": "light"
     },
     "output_type": "display_data"
    },
    {
     "data": {
      "image/png": "[encoded data removed]",
      "text/plain": [
       "<Figure size 720x432 with 1 Axes>"
      ]
     },
     "metadata": {
      "needs_background": "light"
     },
     "output_type": "display_data"
    },
    {
     "data": {
      "image/png": "[encoded data removed]",
      "text/plain": [
       "<Figure size 576x576 with 1 Axes>"
      ]
     },
     "metadata": {
      "needs_background": "light"
     },
     "output_type": "display_data"
    }
   ],
   "source": [
    "if (SAVE_INFO == True):\n",
    "    INFO_FILE = open (EXPERIMENT_DIR + 'INFO.txt', 'w')\n",
    "    \n",
    "if (SAVE_INFO == True):\n",
    "    print_INFO_to_file()\n",
    "    \n",
    "print_ROCinfo (earthquake_network,\n",
    "               earthquakes_dataloader_test,\n",
    "               DEVICE,\n",
    "               ) \n",
    "\n",
    "if (SAVE_INFO == True):\n",
    "    INFO_FILE.close()"
   ]
  },
  {
   "cell_type": "code",
   "execution_count": 39,
   "metadata": {},
   "outputs": [],
   "source": [
    "def check_quality (model,\n",
    "                   device,\n",
    "                   dataloader_test,\n",
    "                   n_dots=501,\n",
    "                   info_file=None):\n",
    "    model = model.to(device)\n",
    "    \n",
    "    \n",
    "    threshold_massive = np.linspace (0, n_dots-1, n_dots, dtype=int)\n",
    "    TP_massive = np.zeros (n_dots)\n",
    "    FP_massive = np.zeros (n_dots)\n",
    "    FN_massive = np.zeros (n_dots)\n",
    "    TN_massive = np.zeros (n_dots)\n",
    "    \n",
    "    i = 0\n",
    "    all_dots_pred  = torch.zeros((0, 1, 200, 250))\n",
    "    all_dots_label = torch.zeros((0, 1, 200, 250))\n",
    "    \n",
    "    for data in dataloader_test:\n",
    "        print (i)\n",
    "        i += 1\n",
    "        inputs = data[0].to(device)\n",
    "        labels = data[1].to(device).byte()\n",
    "\n",
    "        outputs = model(inputs)\n",
    "        \n",
    "        all_dots_label = torch.cat((all_dots_label.to(device).float(), labels.to(device).float()), dim=0)\n",
    "        all_dots_pred  = torch.cat((all_dots_pred.to(device), outputs[:, 1, :, :].unsqueeze(1).to(device)), dim=0)\n",
    "        \n",
    "        \n",
    "        for threshold in threshold_massive:\n",
    "            prediction = ((outputs[:, 1, :, :].unsqueeze(1))>(threshold/n_dots)).byte()\n",
    "            TP_massive[threshold] += torch.sum (prediction       * labels      ).float()\n",
    "            FP_massive[threshold] += torch.sum (prediction       * (1 - labels)).float()\n",
    "            FN_massive[threshold] += torch.sum ((1 - prediction) * labels      ).float()\n",
    "            TN_massive[threshold] += torch.sum ((1 - prediction) * (1 - labels)).float()\n",
    "    \n",
    "    print (all_dots_label.shape)\n",
    "    print (all_dots_pred.shape)\n",
    "    print (np.array(all_dots_label .detach().view(-1).cpu()).shape)\n",
    "    print (np.array(all_dots_pred.detach().view(-1).cpu()).shape)\n",
    "    ROC_AUC_score = roc_auc_score(np.array(all_dots_label .detach().view(-1).cpu()),\n",
    "                                  np.array(all_dots_pred.detach().view(-1).cpu()))\n",
    "    print ('ROC_auc = ', ROC_AUC_score)\n",
    "    AVG_precision_score = average_precision_score(np.array(all_dots_label .detach().view(-1).cpu()),\n",
    "                                                  np.array(all_dots_pred.detach().view(-1).cpu()))\n",
    "    print ('AVG_precision = ', AVG_precision_score)\n",
    "            \n",
    "    threshold_massive = threshold_massive / (n_dots-1)\n",
    "    precision_massive = TP_massive / (TP_massive + FP_massive)\n",
    "    TPR_massive       = TP_massive / (TP_massive + FN_massive)\n",
    "    FPR_massive       = FP_massive / (FP_massive + TN_massive)\n",
    "\n",
    "    sum_events = TP_massive[int(len(TP_massive)/2)] + FP_massive[int(len(FP_massive)/2)] + FN_massive[int(len(FN_massive)/2)] + TN_massive[int(len(TN_massive)/2)] \n",
    "    print ('TP = ', round(TP_massive[int(len(TP_massive)/2)] / sum_events, 6), '%')\n",
    "    print ('FP = ', round(FP_massive[int(len(FP_massive)/2)] / sum_events, 6), '%')\n",
    "    print ('FN = ', round(FN_massive[int(len(FN_massive)/2)] / sum_events, 6), '%')\n",
    "    print ('TN = ', round(TN_massive[int(len(TN_massive)/2)] / sum_events, 6), '%')\n",
    "    \n",
    "    if (SAVE_INFO == True):\n",
    "        print ('TP = ', round(TP_massive[int(len(TP_massive)/2)] / sum_events, 6), '%', file=INFO_FILE)\n",
    "        print ('FP = ', round(FP_massive[int(len(FP_massive)/2)] / sum_events, 6), '%', file=INFO_FILE)\n",
    "        print ('FN = ', round(FN_massive[int(len(FN_massive)/2)] / sum_events, 6), '%', file=INFO_FILE)\n",
    "        print ('TN = ', round(TN_massive[int(len(TN_massive)/2)] / sum_events, 6), '%', file=INFO_FILE)\n",
    "    \n",
    "    # plot 1 precision\n",
    "    fig1 = plt.figure(figsize=(10, 6))\n",
    "\n",
    "    axes = fig1.add_axes([0.1, 0.1, 0.8, 0.8])\n",
    "\n",
    "    axes.plot(threshold_massive, precision_massive, color='green', marker='^')\n",
    "\n",
    "    axes.set_xlabel('threshold')\n",
    "    axes.set_ylabel('precision')\n",
    "\n",
    "    if (SAVE_INFO == True):\n",
    "        plt.savefig(EXPERIMENT_DIR + 'Precision_from_threshold.png', format='png', dpi=100)\n",
    "    plt.show()\n",
    "    \n",
    "    # plot 2 recall\n",
    "    fig = plt.figure(figsize=(10, 6))\n",
    "\n",
    "    axes = fig.add_axes([0.1, 0.1, 0.8, 0.8])\n",
    "\n",
    "    axes.plot(threshold_massive, TPR_massive, color='green', marker='^')\n",
    "\n",
    "    axes.set_xlabel('threshold')\n",
    "    axes.set_ylabel('recall')\n",
    "    \n",
    "    if (SAVE_INFO == True):\n",
    "        plt.savefig(EXPERIMENT_DIR + 'Recall_from_threshold.png', format='png', dpi=100)\n",
    "    plt.show()\n",
    "    \n",
    "    # plot 3 ROC-curve\n",
    "    fig = plt.figure(figsize=(8, 8))\n",
    "\n",
    "    axes = fig.add_axes([0.1, 0.1, 0.8, 0.8])\n",
    "\n",
    "    axes.plot(FPR_massive, TPR_massive, 'orange', marker = '^')\n",
    "    axes.plot (range(2), range(2), 'grey', ls='--')\n",
    "\n",
    "    axes.set_xlabel('FPR')\n",
    "    axes.set_ylabel('TPR (recall)')\n",
    "    axes.set_title('ROC-curve')\n",
    "\n",
    "    if (SAVE_INFO == True):\n",
    "        plt.savefig(EXPERIMENT_DIR + 'ROC_curve.png', format='png', dpi=100)\n",
    "    plt.show()\n",
    "    \n",
    "    \n",
    "    return None"
   ]
  },
  {
   "cell_type": "code",
   "execution_count": 40,
   "metadata": {},
   "outputs": [
    {
     "name": "stdout",
     "output_type": "stream",
     "text": [
      "0\n",
      "1\n",
      "2\n",
      "3\n",
      "4\n",
      "5\n",
      "6\n",
      "7\n",
      "8\n",
      "9\n",
      "10\n",
      "11\n",
      "12\n",
      "13\n",
      "14\n",
      "15\n",
      "16\n",
      "17\n",
      "18\n",
      "19\n",
      "20\n",
      "21\n",
      "22\n",
      "23\n",
      "24\n",
      "25\n",
      "26\n",
      "27\n",
      "28\n",
      "29\n",
      "30\n",
      "31\n",
      "32\n",
      "33\n",
      "34\n",
      "35\n",
      "36\n",
      "37\n",
      "38\n",
      "39\n",
      "40\n",
      "41\n",
      "42\n",
      "43\n",
      "44\n",
      "45\n",
      "46\n",
      "47\n",
      "48\n",
      "49\n",
      "torch.Size([50, 1, 200, 250])\n",
      "torch.Size([50, 1, 200, 250])\n",
      "(2500000,)\n",
      "(2500000,)\n",
      "ROC_auc =  0.9924377349611015\n",
      "AVG_precision =  0.008592062683884495\n",
      "TP =  0.0 %\n",
      "FP =  0.0 %\n",
      "FN =  5.4e-05 %\n",
      "TN =  0.999946 %\n"
     ]
    },
    {
     "name": "stderr",
     "output_type": "stream",
     "text": [
      "/home/romakail/anaconda3/lib/python3.7/site-packages/ipykernel_launcher.py:50: RuntimeWarning: invalid value encountered in true_divide\n"
     ]
    },
    {
     "data": {
      "image/png": "[encoded data removed]",
      "text/plain": [
       "<Figure size 720x432 with 1 Axes>"
      ]
     },
     "metadata": {
      "needs_background": "light"
     },
     "output_type": "display_data"
    },
    {
     "data": {
      "image/png": "[encoded data removed]",
      "text/plain": [
       "<Figure size 720x432 with 1 Axes>"
      ]
     },
     "metadata": {
      "needs_background": "light"
     },
     "output_type": "display_data"
    },
    {
     "data": {
      "image/png": "[encoded data removed]",
      "text/plain": [
       "<Figure size 576x576 with 1 Axes>"
      ]
     },
     "metadata": {
      "needs_background": "light"
     },
     "output_type": "display_data"
    }
   ],
   "source": [
    "check_quality (earthquake_network,\n",
    "               DEVICE,\n",
    "               earthquakes_dataloader_test,\n",
    "               ) "
   ]
  },
  {
   "cell_type": "code",
   "execution_count": null,
   "metadata": {},
   "outputs": [],
   "source": []
  },
  {
   "cell_type": "code",
   "execution_count": 41,
   "metadata": {},
   "outputs": [],
   "source": [
    "# class ConvNetwork_MSE (nn.Module):\n",
    "    \n",
    "#     def __init__(self):\n",
    "#         super(ConvNetwork_CE, self).__init__()\n",
    "        \n",
    "#         self.features = nn.Sequential()\n",
    "        \n",
    "#         self.features.add_module('conv1', conv_block(     OBSERVED_DAYS    , int (OBSERVED_DAYS/2 ), 3))\n",
    "#         self.features.add_module('conv2', conv_block(int (OBSERVED_DAYS/2 ), int (OBSERVED_DAYS/4 ), 3))\n",
    "#         self.features.add_module('conv3', conv_block(int (OBSERVED_DAYS/4 ), int (OBSERVED_DAYS/8 ), 3))\n",
    "#         self.features.add_module('conv4', conv_block(int (OBSERVED_DAYS/8 ), int (OBSERVED_DAYS/16), 3))\n",
    "#         self.features.add_module('conv5', conv_block(int (OBSERVED_DAYS/16),                      1, 3))\n",
    "        \n",
    "#         # might be a good idea to add an extra full connected layer\n",
    "        \n",
    "#     def forward(self, x):\n",
    "# #         print ('input  : ', x.shape)\n",
    "#         x = self.features(x)\n",
    "# #         print ('output : ', x.shape)\n",
    "#         return x\n",
    "        "
   ]
  },
  {
   "cell_type": "code",
   "execution_count": 42,
   "metadata": {},
   "outputs": [],
   "source": [
    "# def train_network_MSE(network, \n",
    "#                       device,\n",
    "#                       dataloader_train,\n",
    "#                       dataloader_test,\n",
    "#                       epochs=164,\n",
    "#                       learning_rate=0.1):\n",
    "    \n",
    "#     train_acc = []\n",
    "#     test_acc  = []\n",
    "#     net = network.to(device)\n",
    "\n",
    "#     criterion = nn.MSELoss()\n",
    "#     optimizer = torch.optim.SGD(network.parameters(), lr=learning_rate, weight_decay=0.0001, momentum=0.9)\n",
    "\n",
    "    \n",
    "#     for epoch in tqdm(range(epochs)):  # loop over the dataset multiple times\n",
    "#         if epoch == epochs/2:\n",
    "#             optimizer = torch.optim.SGD(network.parameters(), lr=learning_rate/10, weight_decay=0.0001, momentum=0.9) \n",
    "#         elif epoch == epochs*3/4:\n",
    "#             optimizer = torch.optim.SGD(network.parameters(), lr=learning_rate/100, weight_decay=0.0001, momentum=0.9) \n",
    "        \n",
    "#         net = net.train()        \n",
    "#         epoch_accuracy = 0.0\n",
    "#         epoch_elems = 0\n",
    "#         for data in dataloader_train:\n",
    "            \n",
    "#             inputs = data[0].to(device)\n",
    "#             labels = data[1].to(device)\n",
    "# #             print ('inputs_shape = ', inputs.shape)\n",
    "# #             print ('labels_shape = ', labels.shape)\n",
    "\n",
    "#             # zero the parameter gradients\n",
    "#             optimizer.zero_grad()\n",
    "\n",
    "#             # forward + backward + optimize\n",
    "#             outputs = net(inputs)\n",
    "# #             print ('outputs : ', outputs.dtype)\n",
    "# #             print ('labels  : ', labels.dtype)\n",
    "#             loss = criterion(outputs, labels)\n",
    "#             loss.backward()\n",
    "#             optimizer.step()\n",
    "\n",
    "# #             print (loss)\n",
    "#             epoch_elems    += labels.shape[0]\n",
    "#             epoch_accuracy += loss.item()*labels.shape[0]\n",
    "\n",
    "#         epoch_accuracy /= epoch_elems\n",
    "#         train_acc.append(epoch_accuracy)\n",
    "        \n",
    "        \n",
    "#         # calculating test accuracy\n",
    "#         epoch_accuracy = 0.0\n",
    "#         epoch_elems = 0\n",
    "#         for data in dataloader_test:\n",
    "#             inputs = data[0].to(device)\n",
    "#             labels = data[1].to(device)   \n",
    "#             outputs = net(inputs)\n",
    "#             loss = criterion(outputs, labels)\n",
    "            \n",
    "#             epoch_elems    += labels.shape[0]\n",
    "#             epoch_accuracy += loss.item()*labels.shape[0]\n",
    "\n",
    "#         epoch_accuracy /= epoch_elems\n",
    "#         test_acc.append(epoch_accuracy)\n",
    "        \n",
    "        \n",
    "#         print('Epoch : ', epoch, 'acc_train : ', round (train_acc[-1], 4), 'acc_test : ', round (test_acc[-1], 4))\n",
    "\n",
    "#     print('Finished Training')\n",
    "    \n",
    "#     plt.plot(train_acc, label='Train')\n",
    "#     plt.plot(test_acc , label='Test' )\n",
    "#     plt.legend()\n",
    "#     plt.grid()"
   ]
  },
  {
   "cell_type": "code",
   "execution_count": 43,
   "metadata": {},
   "outputs": [],
   "source": [
    "# earthquake_netowrk = ConvNetwork_MSE ()\n",
    "# train_network_MSE (earthquake_netowrk,\n",
    "#                    torch.device(DEVICE),\n",
    "#                    earthquakes_dataloader_train,\n",
    "#                    earthquakes_dataloader_test,\n",
    "#                    epochs=200,\n",
    "#                    )"
   ]
  },
  {
   "cell_type": "code",
   "execution_count": 44,
   "metadata": {},
   "outputs": [],
   "source": [
    "# def find_mistake (x):\n",
    "#     assert (torch.sum((x < 0.0) + (x > 1.0)) == 0)"
   ]
  },
  {
   "cell_type": "code",
   "execution_count": 45,
   "metadata": {},
   "outputs": [],
   "source": [
    "# loss = nn.CrossEntropyLoss()\n",
    "# input = torch.randn(3, 5, requires_grad=True)\n",
    "# target = torch.empty(3, dtype=torch.long).random_(5)\n",
    "# print ('input  : ', input.shape, input.dtype)\n",
    "# print (input)\n",
    "# print (torch.sum (input, dim = 0))\n",
    "# print ('target : ', target.shape, target.dtype)\n",
    "# print (target)\n",
    "# output = loss(input, target)\n",
    "# output.backward()"
   ]
  },
  {
   "cell_type": "code",
   "execution_count": 46,
   "metadata": {},
   "outputs": [],
   "source": [
    "# import torch\n",
    "# from torch.utils.data import Dataset, DataLoader\n",
    "\n",
    "# class someDataset (Dataset):\n",
    "#     def __init__(self):\n",
    "#         self.data = torch.ones ([100, 32, 10, 10])\n",
    "#         self.labels = torch.ones ([100, 1, 10, 10])\n",
    "#         self.len  = self.data.shape[0]\n",
    "        \n",
    "#         print (self.data.shape)\n",
    "#         print (self.labels.shape)\n",
    "        \n",
    "#     def __len__ (self):\n",
    "#         return self.len\n",
    "    \n",
    "#     def __getitem__(self, idx):\n",
    "#         print ('data_shape = ', self.data[idx].shape)\n",
    "#         print ('result_shape = ', self.labels[idx].shape)\n",
    "#         return self.data[idx], self.labels[idx]"
   ]
  },
  {
   "cell_type": "code",
   "execution_count": 47,
   "metadata": {},
   "outputs": [],
   "source": [
    "# some_dataset = someDataset()\n",
    "# dataloader = DataLoader (some_dataset,\n",
    "#                          batch_size=32,\n",
    "#                          shuffle=True,\n",
    "#                          num_workers=1,\n",
    "#                          )\n",
    "\n",
    "# for i, batch in enumerate(dataloader, 0):\n",
    "#     data = batch[0]\n",
    "#     print (i, 'data ', data.shape)\n",
    "#     labels = batch[1]\n",
    "#     print (i, 'labels ', labels.shape)\n",
    "    \n",
    "\n",
    "\n",
    "# # eartquakes_dataloader_train = DataLoader(earthquakes_dataset_train,\n",
    "# #                                          batch_size=33,\n",
    "# #                                          shuffle=True,\n",
    "# #                                          num_workers=4)\n"
   ]
  },
  {
   "cell_type": "code",
   "execution_count": null,
   "metadata": {},
   "outputs": [],
   "source": []
  }
 ],
 "metadata": {
  "kernelspec": {
   "display_name": "Python 3",
   "language": "python",
   "name": "python3"
  },
  "language_info": {
   "codemirror_mode": {
    "name": "ipython",
    "version": 3
   },
   "file_extension": ".py",
   "mimetype": "text/x-python",
   "name": "python",
   "nbconvert_exporter": "python",
   "pygments_lexer": "ipython3",
   "version": "3.7.4"
  }
 },
 "nbformat": 4,
 "nbformat_minor": 2
}
