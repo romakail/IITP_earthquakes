{
 "cells": [
  {
   "cell_type": "code",
   "execution_count": 1,
   "metadata": {
    "collapsed": true
   },
   "outputs": [],
   "source": [
    "import numpy as np\n",
    "import pandas as pd\n",
    "import matplotlib.pyplot as plt\n",
    "import math as m\n",
    "import datetime as dt\n",
    "import os\n",
    "from tqdm import tqdm_notebook as tqdm\n",
    "\n",
    "%matplotlib inline"
   ]
  },
  {
   "cell_type": "code",
   "execution_count": 2,
   "metadata": {
    "collapsed": true
   },
   "outputs": [],
   "source": [
    "SAVE_INFO = True"
   ]
  },
  {
   "cell_type": "code",
   "execution_count": 3,
   "metadata": {},
   "outputs": [
    {
     "ename": "FileExistsError",
     "evalue": "[Errno 17] File exists: 'Data/Experiment_conv/'",
     "output_type": "error",
     "traceback": [
      "\u001b[0;31m---------------------------------------------------------------------------\u001b[0m",
      "\u001b[0;31mFileExistsError\u001b[0m                           Traceback (most recent call last)",
      "\u001b[0;32m<ipython-input-3-cc5b50c769f5>\u001b[0m in \u001b[0;36m<module>\u001b[0;34m()\u001b[0m\n\u001b[1;32m      2\u001b[0m     \u001b[0mDATA_DIR\u001b[0m \u001b[0;34m=\u001b[0m \u001b[0;34m'Data/'\u001b[0m\u001b[0;34m\u001b[0m\u001b[0;34m\u001b[0m\u001b[0m\n\u001b[1;32m      3\u001b[0m     \u001b[0mEXPERIMENT_DIR\u001b[0m \u001b[0;34m=\u001b[0m \u001b[0mDATA_DIR\u001b[0m \u001b[0;34m+\u001b[0m \u001b[0;34m'Experiment_conv/'\u001b[0m\u001b[0;34m\u001b[0m\u001b[0;34m\u001b[0m\u001b[0m\n\u001b[0;32m----> 4\u001b[0;31m     \u001b[0mos\u001b[0m\u001b[0;34m.\u001b[0m\u001b[0mmakedirs\u001b[0m\u001b[0;34m(\u001b[0m\u001b[0mEXPERIMENT_DIR\u001b[0m\u001b[0;34m)\u001b[0m\u001b[0;34m\u001b[0m\u001b[0;34m\u001b[0m\u001b[0m\n\u001b[0m",
      "\u001b[0;32m~/anaconda3/lib/python3.6/os.py\u001b[0m in \u001b[0;36mmakedirs\u001b[0;34m(name, mode, exist_ok)\u001b[0m\n\u001b[1;32m    218\u001b[0m             \u001b[0;32mreturn\u001b[0m\u001b[0;34m\u001b[0m\u001b[0;34m\u001b[0m\u001b[0m\n\u001b[1;32m    219\u001b[0m     \u001b[0;32mtry\u001b[0m\u001b[0;34m:\u001b[0m\u001b[0;34m\u001b[0m\u001b[0;34m\u001b[0m\u001b[0m\n\u001b[0;32m--> 220\u001b[0;31m         \u001b[0mmkdir\u001b[0m\u001b[0;34m(\u001b[0m\u001b[0mname\u001b[0m\u001b[0;34m,\u001b[0m \u001b[0mmode\u001b[0m\u001b[0;34m)\u001b[0m\u001b[0;34m\u001b[0m\u001b[0;34m\u001b[0m\u001b[0m\n\u001b[0m\u001b[1;32m    221\u001b[0m     \u001b[0;32mexcept\u001b[0m \u001b[0mOSError\u001b[0m\u001b[0;34m:\u001b[0m\u001b[0;34m\u001b[0m\u001b[0;34m\u001b[0m\u001b[0m\n\u001b[1;32m    222\u001b[0m         \u001b[0;31m# Cannot rely on checking for EEXIST, since the operating system\u001b[0m\u001b[0;34m\u001b[0m\u001b[0;34m\u001b[0m\u001b[0;34m\u001b[0m\u001b[0m\n",
      "\u001b[0;31mFileExistsError\u001b[0m: [Errno 17] File exists: 'Data/Experiment_conv/'"
     ]
    }
   ],
   "source": [
    "if (SAVE_INFO == True):\n",
    "    DATA_DIR = 'Data/'\n",
    "    EXPERIMENT_DIR = DATA_DIR + 'Experiment_conv/'\n",
    "    os.makedirs(EXPERIMENT_DIR)"
   ]
  },
  {
   "cell_type": "markdown",
   "metadata": {},
   "source": [
    "### посмотрим что мы имеем"
   ]
  },
  {
   "cell_type": "code",
   "execution_count": null,
   "metadata": {},
   "outputs": [],
   "source": [
    "data = pd.read_csv('earthquakes_data.csv', sep=',')\n",
    "data"
   ]
  },
  {
   "cell_type": "code",
   "execution_count": null,
   "metadata": {},
   "outputs": [],
   "source": [
    "fig = plt.figure(figsize=(10.5 * m.cos(40 * m.pi / 180), 9))\n",
    "\n",
    "axes = fig.add_axes([0.1, 0.1, 0.8, 0.8])\n",
    "\n",
    "axes.scatter(data['long'], data['lat'], color='red', marker='.', s=20)\n",
    "plt.axis([120.0, 155.0, 20.0, 50.0])\n",
    "\n",
    "axes.set_xlabel('long')\n",
    "axes.set_ylabel('lat')\n",
    "axes.set_title('title')\n",
    "\n",
    "plt.show()"
   ]
  },
  {
   "cell_type": "markdown",
   "metadata": {},
   "source": [
    "### Спроецируем Японию на плоскость"
   ]
  },
  {
   "cell_type": "code",
   "execution_count": null,
   "metadata": {
    "collapsed": true
   },
   "outputs": [],
   "source": [
    "R_polus   = 6356.86\n",
    "R_ekvator = 6378.20\n",
    "\n",
    "def local_radius (longitude):\n",
    "    return m.cos (longitude * m.pi / 180) * (R_ekvator - R_polus) + R_polus\n",
    "\n",
    "R_japan = local_radius (37)"
   ]
  },
  {
   "cell_type": "code",
   "execution_count": null,
   "metadata": {},
   "outputs": [],
   "source": [
    "ORIGIN_LATITUDE  = 27.0\n",
    "ORIGIN_LONGITUDE = 127.0\n",
    "\n",
    "def spherical_to_cartesian (longitude, latitude):\n",
    "    X = (longitude - ORIGIN_LONGITUDE) * m.pi / 180 * R_japan * m.cos (latitude * m.pi / 180)\n",
    "    Y = (latitude  - ORIGIN_LATITUDE ) * m.pi / 180 * R_japan \n",
    "    \n",
    "    return X, Y\n",
    "\n",
    "data.shape"
   ]
  },
  {
   "cell_type": "code",
   "execution_count": null,
   "metadata": {},
   "outputs": [],
   "source": [
    "XY_massive = np.zeros((data.shape[0], 2))\n",
    "j = 0\n",
    "for i in tqdm(range (XY_massive.shape[0])):\n",
    "    XY_massive[i][0], XY_massive[i][1] = spherical_to_cartesian (data['long'][i], data['lat'][i])\n",
    "\n",
    "data['x'] = XY_massive[:, 0]\n",
    "data['y'] = XY_massive[:, 1]\n",
    "#data['lat'], data['long'] = spherical_to_cartesian (data['lat'], data['long'])"
   ]
  },
  {
   "cell_type": "markdown",
   "metadata": {},
   "source": [
    "#### Посмотрим что получилось"
   ]
  },
  {
   "cell_type": "code",
   "execution_count": null,
   "metadata": {},
   "outputs": [],
   "source": [
    "fig = plt.figure(figsize=(10, 12.5))\n",
    "\n",
    "axes = fig.add_axes([0.1, 0.1, 0.8, 0.8])\n",
    "\n",
    "axes.scatter(data['x'], data['y'], color='orange', marker='.', s=20)\n",
    "plt.axis([0, 2000, 0, 2500])\n",
    "\n",
    "axes.set_xlabel('x')\n",
    "axes.set_ylabel('y')\n",
    "axes.set_title('title')\n",
    "\n",
    "if (SAVE_INFO == True):\n",
    "    plt.savefig(EXPERIMENT_DIR + 'map.png', format='png', dpi=100)\n",
    "plt.show()"
   ]
  },
  {
   "cell_type": "code",
   "execution_count": null,
   "metadata": {},
   "outputs": [],
   "source": [
    "a = np.zeros(20, dtype=int)\n",
    "for i in tqdm(range (data.shape[0])):\n",
    "    for threshold in range (20):\n",
    "        if (data['class'][i] >= threshold/2) and (data['class'][i] < threshold/2 + 0.5):\n",
    "            a[threshold] += 1\n",
    "            break\n",
    "\n",
    "            \n",
    "# print ((a / data.shape[0] * 100).int())\n",
    "\n",
    "    "
   ]
  },
  {
   "cell_type": "markdown",
   "metadata": {},
   "source": [
    "#### Распечатаем сколько землетрясений и с какой амплитудой случалось"
   ]
  },
  {
   "cell_type": "code",
   "execution_count": null,
   "metadata": {},
   "outputs": [],
   "source": [
    "if (SAVE_INFO == True):\n",
    "    distr_file = open (EXPERIMENT_DIR + 'earthquakes_distribution.txt', 'w')\n",
    "\n",
    "for i in range (a.shape[0]):\n",
    "    print ('from ', i/2, ' to ', i/2+0.5, ' : %.2f' % (a[i]/data.shape[0]*100), '% of dots')\n",
    "    if (SAVE_INFO == True):\n",
    "        print ('from ', i/2, ' to ', i/2+0.5, ' : %.2f' % (a[i]/data.shape[0]*100), '% of dots', file=distr_file)\n",
    "        \n",
    "if (SAVE_INFO == True):\n",
    "    distr_file.close()\n"
   ]
  },
  {
   "cell_type": "markdown",
   "metadata": {},
   "source": [
    "#### Посчитаем сколько дней прошло с 01.01.1990 до i-го землетрясения"
   ]
  },
  {
   "cell_type": "code",
   "execution_count": null,
   "metadata": {},
   "outputs": [],
   "source": [
    "time_massive = np.zeros (data.shape[0])\n",
    "\n",
    "d_0 = dt.date (data['year'][0], data['month'][0], data['date'][0])\n",
    "for i in tqdm(range (data.shape[0])):\n",
    "    d_i = dt.date (data['year'][i], data['month'][i], data['date'][i])\n",
    "    time_massive[i] = (d_i - d_0).days\n",
    "    \n",
    "data['time'] = time_massive"
   ]
  },
  {
   "cell_type": "markdown",
   "metadata": {},
   "source": [
    "#### Посмотрим что имеем "
   ]
  },
  {
   "cell_type": "code",
   "execution_count": null,
   "metadata": {},
   "outputs": [],
   "source": [
    "data"
   ]
  },
  {
   "cell_type": "markdown",
   "metadata": {},
   "source": [
    "## Разбиение датасета по дням и по клетка в сетке"
   ]
  },
  {
   "cell_type": "code",
   "execution_count": null,
   "metadata": {
    "collapsed": true
   },
   "outputs": [],
   "source": [
    "import torch\n",
    "import torch.nn as nn\n",
    "import torch.nn.functional as F\n",
    "from torch.utils.data import Dataset, DataLoader\n",
    "\n",
    "from sklearn.metrics import accuracy_score"
   ]
  },
  {
   "cell_type": "code",
   "execution_count": null,
   "metadata": {},
   "outputs": [],
   "source": [
    "LEFT_BORDER = 0\n",
    "RIGHT_BORDER = 2000\n",
    "DOWN_BORDER = 0\n",
    "UP_BORDER = 2500\n",
    "\n",
    "N_CELLS_HOR = 200\n",
    "N_CELLS_VER = 250\n",
    "\n",
    "print (data['time'][data.shape[0] - 1])\n",
    "celled_data = torch.zeros ([int (data['time'][data.shape[0] - 1] + 1), 1, N_CELLS_HOR, N_CELLS_VER])\n",
    "print (celled_data.shape)\n",
    "\n",
    "for i in tqdm(range (data.shape[0])):\n",
    "    if (data['x'][i] > LEFT_BORDER) and (data['x'][i] < RIGHT_BORDER) and (data['y'][i] > DOWN_BORDER) and (data['y'][i] < UP_BORDER):\n",
    "        x = int (data['x'][i] / (RIGHT_BORDER - LEFT_BORDER) * N_CELLS_HOR)\n",
    "        y = int (data['y'][i] / (UP_BORDER    - DOWN_BORDER) * N_CELLS_VER)\n",
    "        celled_data[int(data['time'][i]), 0, x, y] = data['class'][i]\n",
    "#         celled_data[int(data['time'][i]), 1, x, y] = data['depth'][i]\n",
    "        \n",
    "# celled_data\n",
    "del data\n",
    "        \n",
    "    \n"
   ]
  },
  {
   "cell_type": "code",
   "execution_count": null,
   "metadata": {},
   "outputs": [],
   "source": [
    "print (celled_data.shape)\n",
    "print (celled_data.dtype)"
   ]
  },
  {
   "cell_type": "code",
   "execution_count": 4,
   "metadata": {
    "collapsed": true
   },
   "outputs": [],
   "source": [
    "# OBSERVED_DAYS = 32     # 1 months\n",
    "# DAYS_TO_PREDICT = 4\n",
    "# STEP = 10\n",
    "\n",
    "# train_data   = torch.zeros ([0, OBSERVED_DAYS, N_CELLS_HOR, N_CELLS_VER])\n",
    "# train_result = torch.zeros ([0,             1, N_CELLS_HOR, N_CELLS_VER])\n",
    "# for i in tqdm(range (OBSERVED_DAYS, celled_data.shape[0] - DAYS_TO_PREDICT, STEP)):\n",
    "#     current_history = torch.zeros ([0, N_CELLS_HOR, N_CELLS_VER])\n",
    "#     for rest in range (OBSERVED_DAYS):   \n",
    "#         current_history = torch.cat((current_history, celled_data[i - rest - 1, :, :, :]), dim=0)\n",
    "#     current_history.unsqueeze(0)\n",
    "#     train_data = torch.cat((train_data, current_history), dim=0)\n",
    "    \n",
    "# train_data   = torch.zeros ([0, OBSERVED_DAYS, N_CELLS_HOR, N_CELLS_VER])\n",
    "# train_result = torch.zeros ([0,             1, N_CELLS_HOR, N_CELLS_VER])\n",
    "# for i in tqdm(range (OBSERVED_DAYS, celled_data.shape[0] - DAYS_TO_PREDICT, STEP)):\n",
    "#     current_history = torch.zeros ([0, N_CELLS_HOR, N_CELLS_VER])\n",
    "#     for rest in range (OBSERVED_DAYS):\n",
    "#         current_history = torch.cat((current_history, celled_data[i - rest, :, :, :]), dim=0)\n",
    "#     current_history = current_history.unsqueeze(0)\n",
    "#     train_data = torch.cat((train_data, current_history), dim=0)\n",
    "\n",
    "#     train_result = torch.cat ((train_result, torch.sum (celled_data[i:(i + DAYS_TO_PREDICT), :, :, :], dim=0, keepdim=True)), dim=0)\n",
    "\n",
    "#     print ('train_data', train_data.shape)\n",
    "#     print ('train_result       ', train_result.shape)\n",
    "    "
   ]
  },
  {
   "cell_type": "code",
   "execution_count": 5,
   "metadata": {
    "collapsed": true
   },
   "outputs": [],
   "source": [
    "# print (train_data.shape)\n",
    "# print (train_result.shape)"
   ]
  },
  {
   "cell_type": "markdown",
   "metadata": {},
   "source": [
    "# Обучение"
   ]
  },
  {
   "cell_type": "code",
   "execution_count": 6,
   "metadata": {},
   "outputs": [
    {
     "ename": "NameError",
     "evalue": "name 'torch' is not defined",
     "output_type": "error",
     "traceback": [
      "\u001b[0;31m---------------------------------------------------------------------------\u001b[0m",
      "\u001b[0;31mNameError\u001b[0m                                 Traceback (most recent call last)",
      "\u001b[0;32m<ipython-input-6-1911941495b3>\u001b[0m in \u001b[0;36m<module>\u001b[0;34m()\u001b[0m\n\u001b[1;32m      1\u001b[0m \u001b[0mDEVICE_ID\u001b[0m \u001b[0;34m=\u001b[0m \u001b[0;36m0\u001b[0m\u001b[0;34m\u001b[0m\u001b[0;34m\u001b[0m\u001b[0m\n\u001b[0;32m----> 2\u001b[0;31m \u001b[0mDEVICE\u001b[0m \u001b[0;34m=\u001b[0m \u001b[0mtorch\u001b[0m\u001b[0;34m.\u001b[0m\u001b[0mdevice\u001b[0m\u001b[0;34m(\u001b[0m\u001b[0;34m'cuda:%d'\u001b[0m \u001b[0;34m%\u001b[0m \u001b[0mDEVICE_ID\u001b[0m\u001b[0;34m)\u001b[0m\u001b[0;34m\u001b[0m\u001b[0;34m\u001b[0m\u001b[0m\n\u001b[0m\u001b[1;32m      3\u001b[0m \u001b[0mprint\u001b[0m \u001b[0;34m(\u001b[0m\u001b[0mDEVICE\u001b[0m\u001b[0;34m)\u001b[0m\u001b[0;34m\u001b[0m\u001b[0;34m\u001b[0m\u001b[0m\n\u001b[1;32m      4\u001b[0m \u001b[0mtorch\u001b[0m\u001b[0;34m.\u001b[0m\u001b[0mcuda\u001b[0m\u001b[0;34m.\u001b[0m\u001b[0mset_device\u001b[0m\u001b[0;34m(\u001b[0m\u001b[0mDEVICE_ID\u001b[0m\u001b[0;34m)\u001b[0m\u001b[0;34m\u001b[0m\u001b[0;34m\u001b[0m\u001b[0m\n",
      "\u001b[0;31mNameError\u001b[0m: name 'torch' is not defined"
     ]
    }
   ],
   "source": [
    "DEVICE_ID = 0\n",
    "DEVICE = torch.device('cuda:%d' % DEVICE_ID)\n",
    "print (DEVICE)\n",
    "torch.cuda.set_device(DEVICE_ID)"
   ]
  },
  {
   "cell_type": "code",
   "execution_count": 7,
   "metadata": {
    "collapsed": true
   },
   "outputs": [],
   "source": [
    "def my_accuracy (input, target, threshold):\n",
    "    true = ((input>threshold) == target)\n",
    "    sum = torch.sum (true.float())\n",
    "    return sum/input.shape[0]/input.shape[1]/input.shape[2]/input.shape[3]\n",
    "\n",
    "def my_precision (input, target, threshold):\n",
    "    TP = torch.sum (((input>threshold) * target      ).float())\n",
    "    FP = torch.sum (((input>threshold) * (1 - target)).float())\n",
    "    return TP / (TP + FP)\n",
    "\n",
    "def my_recall (input, target, threshold):\n",
    "    TP = torch.sum ((     (input>threshold)  * target).float())\n",
    "    FN = torch.sum (((1 - (input>threshold)) * target).float())\n",
    "    return TP / (TP + FN)\n",
    "\n",
    "def my_precision_recall (input, target, threshold):\n",
    "    TP = torch.sum ((     (input>threshold)  * target      ).float())\n",
    "    FP = torch.sum ((     (input>threshold)  * (1 - target)).float())\n",
    "    FN = torch.sum (((1 - (input>threshold)) * target      ).float())\n",
    "#     print ('TP = ', TP.item(), 'FP = ', FP.item(), 'FN = ', FN.item(), 'N = ', input.shape[0])\n",
    "    return TP / (TP + FP), TP / (TP + FN)"
   ]
  },
  {
   "cell_type": "markdown",
   "metadata": {},
   "source": [
    "### Создадим датасет\n",
    "#### (Может не влезть в оперативку (надо ~ 12Gb))"
   ]
  },
  {
   "cell_type": "code",
   "execution_count": 8,
   "metadata": {
    "collapsed": true
   },
   "outputs": [],
   "source": [
    "OBSERVED_DAYS = 32     # 1 months\n",
    "DAYS_TO_PREDICT = 40\n",
    "STEP = 10\n",
    "TESTING_DAYS = 500"
   ]
  },
  {
   "cell_type": "code",
   "execution_count": 9,
   "metadata": {},
   "outputs": [
    {
     "ename": "NameError",
     "evalue": "name 'Dataset' is not defined",
     "output_type": "error",
     "traceback": [
      "\u001b[0;31m---------------------------------------------------------------------------\u001b[0m",
      "\u001b[0;31mNameError\u001b[0m                                 Traceback (most recent call last)",
      "\u001b[0;32m<ipython-input-9-d0c42429a8c0>\u001b[0m in \u001b[0;36m<module>\u001b[0;34m()\u001b[0m\n\u001b[1;32m      2\u001b[0m \u001b[0;31m# range (OBSERVED_DAYS, celled_data.shape[0] - DAYS_TO_PREDICT - TESTING_DAYS, STEP)\u001b[0m\u001b[0;34m\u001b[0m\u001b[0;34m\u001b[0m\u001b[0;34m\u001b[0m\u001b[0m\n\u001b[1;32m      3\u001b[0m \u001b[0;34m\u001b[0m\u001b[0m\n\u001b[0;32m----> 4\u001b[0;31m \u001b[0;32mclass\u001b[0m \u001b[0mEartquakeDataset_MSE\u001b[0m \u001b[0;34m(\u001b[0m\u001b[0mDataset\u001b[0m\u001b[0;34m)\u001b[0m\u001b[0;34m:\u001b[0m     \u001b[0;31m# MSELoss\u001b[0m\u001b[0;34m\u001b[0m\u001b[0;34m\u001b[0m\u001b[0m\n\u001b[0m\u001b[1;32m      5\u001b[0m     \u001b[0;32mdef\u001b[0m \u001b[0m__init__\u001b[0m\u001b[0;34m(\u001b[0m\u001b[0mself\u001b[0m\u001b[0;34m,\u001b[0m \u001b[0mcelled_data\u001b[0m\u001b[0;34m,\u001b[0m \u001b[0mindicies\u001b[0m\u001b[0;34m)\u001b[0m\u001b[0;34m:\u001b[0m\u001b[0;34m\u001b[0m\u001b[0;34m\u001b[0m\u001b[0m\n\u001b[1;32m      6\u001b[0m \u001b[0;34m\u001b[0m\u001b[0m\n",
      "\u001b[0;31mNameError\u001b[0m: name 'Dataset' is not defined"
     ]
    }
   ],
   "source": [
    "# range (celled_data.shape[0] - DAYS_TO_PREDICT - TESTING_DAYS, celled_data.shape[0] - DAYS_TO_PREDICT, STEP)\n",
    "# range (OBSERVED_DAYS, celled_data.shape[0] - DAYS_TO_PREDICT - TESTING_DAYS, STEP)\n",
    "\n",
    "class EartquakeDataset_MSE (Dataset):     # MSELoss\n",
    "    def __init__(self, celled_data, indicies):\n",
    "        \n",
    "        self.data   = torch.zeros ([0, OBSERVED_DAYS, N_CELLS_HOR, N_CELLS_VER])\n",
    "        self.result = torch.zeros ([0,             1, N_CELLS_HOR, N_CELLS_VER])\n",
    "        for i in tqdm(indicies):\n",
    "            current_history = celled_data[(i - OBSERVED_DAYS):(i), :, :, :].squeeze(1)\n",
    "            current_history = current_history.unsqueeze(0)\n",
    "            self.data   = torch.cat((self.data, current_history), dim=0)\n",
    "\n",
    "            self.result = torch.cat ((self.result, torch.sum (celled_data[i:(i + DAYS_TO_PREDICT), :, :, :], dim=0, keepdim=True)), dim=0)\n",
    "      \n",
    "        print ('data_shape   = ', self.data.shape)\n",
    "        print ('result_shape = ', self.result.shape)\n",
    "        \n",
    "        \n",
    "        \n",
    "        assert (self.data.shape[0] == self.result.shape[0])\n",
    "        self.size = self.data.shape[0]\n",
    "        \n",
    "    def __len__ (self):\n",
    "        return self.size\n",
    "    \n",
    "    def __getitem__(self, idx):\n",
    "#         print ('data_shape = ', self.data[idx].shape)\n",
    "#         print ('result_shape = ', self.result[idx].shape)\n",
    "        return self.data[idx], self.result[idx]\n"
   ]
  },
  {
   "cell_type": "code",
   "execution_count": 23,
   "metadata": {
    "collapsed": true
   },
   "outputs": [],
   "source": [
    "HEAVY_QUAKE_THRES = 3.5\n",
    "\n",
    "class EartquakeDataset_CE (Dataset):      #crossEntropyLoss\n",
    "    def __init__(self, celled_data, indicies):\n",
    "        \n",
    "        self.data   = torch.FloatTensor (0, OBSERVED_DAYS, N_CELLS_HOR, N_CELLS_VER)\n",
    "        self.result = torch.ByteTensor  (0,             1, N_CELLS_HOR, N_CELLS_VER)\n",
    "        for i in tqdm(indicies):\n",
    "            cur_history = celled_data[(i - OBSERVED_DAYS):(i), :, :, :].squeeze(1)\n",
    "            cur_history = cur_history.unsqueeze(0)\n",
    "            self.data   = torch.cat((self.data, cur_history), dim=0)\n",
    "            \n",
    "            cur_results = torch.sum ((celled_data[i:(i + DAYS_TO_PREDICT), :, :, :]>HEAVY_QUAKE_THRES), dim=0, keepdim=True)>0\n",
    "            self.result = torch.cat ((self.result, cur_results), dim=0)\n",
    "        \n",
    "        print ('data_shape   = ', self.data.shape)\n",
    "        print ('result_shape = ', self.result.shape)\n",
    "        \n",
    "        assert (self.data.shape[0] == self.result.shape[0])\n",
    "        self.size = self.data.shape[0]\n",
    "        \n",
    "    def __len__ (self):\n",
    "        return self.size\n",
    "    \n",
    "    def __getitem__(self, idx):\n",
    "#         print ('data_shape = ', self.data[idx].shape)\n",
    "#         print ('result_shape = ', self.result[idx].shape)\n",
    "        return self.data[idx], self.result[idx]\n"
   ]
  },
  {
   "cell_type": "code",
   "execution_count": 24,
   "metadata": {},
   "outputs": [
    {
     "data": {
      "application/vnd.jupyter.widget-view+json": {
       "model_id": "25c70242806646ecacce68a447fb054b",
       "version_major": 2,
       "version_minor": 0
      },
      "text/plain": [
       "A Jupyter Widget"
      ]
     },
     "metadata": {},
     "output_type": "display_data"
    },
    {
     "name": "stdout",
     "output_type": "stream",
     "text": [
      "\n",
      "data_shape   =  torch.Size([902, 32, 200, 250])\n",
      "result_shape =  torch.Size([902, 1, 200, 250])\n"
     ]
    },
    {
     "data": {
      "application/vnd.jupyter.widget-view+json": {
       "model_id": "c35445927d1140a5b24cc12ac2fce4f7",
       "version_major": 2,
       "version_minor": 0
      },
      "text/plain": [
       "A Jupyter Widget"
      ]
     },
     "metadata": {},
     "output_type": "display_data"
    },
    {
     "name": "stdout",
     "output_type": "stream",
     "text": [
      "\n",
      "data_shape   =  torch.Size([50, 32, 200, 250])\n",
      "result_shape =  torch.Size([50, 1, 200, 250])\n"
     ]
    }
   ],
   "source": [
    "earthquakes_dataset_train = EartquakeDataset_CE (celled_data,\n",
    "                                                 range (OBSERVED_DAYS, celled_data.shape[0] - DAYS_TO_PREDICT - TESTING_DAYS, STEP)\n",
    "                                                 )\n",
    "earthquakes_dataset_test  = EartquakeDataset_CE (celled_data,\n",
    "                                                 range (celled_data.shape[0] - DAYS_TO_PREDICT - TESTING_DAYS, celled_data.shape[0] - DAYS_TO_PREDICT, STEP)\n",
    "                                                 )"
   ]
  },
  {
   "cell_type": "code",
   "execution_count": 25,
   "metadata": {
    "collapsed": true
   },
   "outputs": [],
   "source": [
    "# earthquakes_dataset_train = EartquakeDataset_MSE (celled_data,\n",
    "#                                                  range (OBSERVED_DAYS, celled_data.shape[0] - DAYS_TO_PREDICT - TESTING_DAYS, STEP)\n",
    "#                                                  )\n",
    "\n",
    "# earthquakes_dataset_test  = EartquakeDataset_MSE (celled_data,\n",
    "#                                                  range (celled_data.shape[0] - DAYS_TO_PREDICT - TESTING_DAYS, celled_data.shape[0] - DAYS_TO_PREDICT, STEP)\n",
    "#                                                  )"
   ]
  },
  {
   "cell_type": "code",
   "execution_count": 26,
   "metadata": {},
   "outputs": [
    {
     "name": "stdout",
     "output_type": "stream",
     "text": [
      "torch.Size([902, 32, 200, 250])\n",
      "torch.Size([50, 1, 200, 250])\n",
      "torch.float32\n",
      "torch.uint8\n"
     ]
    }
   ],
   "source": [
    "print (earthquakes_dataset_train.data.shape)\n",
    "print (earthquakes_dataset_test .result.shape)\n",
    "\n",
    "print (earthquakes_dataset_train.data.dtype)\n",
    "print (earthquakes_dataset_test .result.dtype)"
   ]
  },
  {
   "cell_type": "code",
   "execution_count": 27,
   "metadata": {
    "collapsed": true
   },
   "outputs": [],
   "source": [
    "earthquakes_dataloader_train = DataLoader(earthquakes_dataset_train,\n",
    "                                         batch_size=16,\n",
    "                                         shuffle=True,\n",
    "                                         num_workers=4)\n",
    "\n",
    "earthquakes_dataloader_test  = DataLoader(earthquakes_dataset_test,\n",
    "                                         batch_size=16,\n",
    "                                         shuffle=False,\n",
    "                                         num_workers=1)"
   ]
  },
  {
   "cell_type": "markdown",
   "metadata": {},
   "source": [
    "### Создадим саму сеть"
   ]
  },
  {
   "cell_type": "code",
   "execution_count": 28,
   "metadata": {
    "collapsed": true
   },
   "outputs": [],
   "source": [
    "class conv_block(nn.Module):\n",
    "    def __init__(self, in_channels, out_channels, kernel_size, stride=1, padding=1):\n",
    "        super(conv_block, self).__init__()\n",
    "        \n",
    "        self.CONV  = nn.Conv2d    (in_channels,\n",
    "                                   out_channels,\n",
    "                                   kernel_size=kernel_size,\n",
    "                                   stride=stride,\n",
    "                                   padding=padding,\n",
    "                                   bias=False)             # think about it later\n",
    "        \n",
    "        self.BNORM =nn.BatchNorm2d(out_channels,\n",
    "                                   eps=1e-05,\n",
    "                                   momentum=0.1,\n",
    "                                   affine=False)\n",
    "        self.RELU  = nn.ReLU ()\n",
    "        \n",
    "        self.MAXPOOL = nn.MaxPool2d(3,\n",
    "                                    stride=1,\n",
    "                                    padding=1,\n",
    "                                    dilation=1)\n",
    "        \n",
    "    def forward(self, x):\n",
    "        #print ('sizeof(x) = ', x.size())\n",
    "        #print ('sizeof(xprev) = ', xprev.size())    \n",
    "        \n",
    "        x = self.CONV   (x)\n",
    "        x = self.BNORM  (x)\n",
    "        x = self.RELU   (x)\n",
    "        x = self.MAXPOOL(x)\n",
    "        \n",
    "        return x"
   ]
  },
  {
   "cell_type": "code",
   "execution_count": 29,
   "metadata": {
    "collapsed": true
   },
   "outputs": [],
   "source": [
    "class ConvNetwork_CE (nn.Module):\n",
    "    \n",
    "    def __init__(self):\n",
    "        super(ConvNetwork_CE, self).__init__()\n",
    "        \n",
    "        self.features = nn.Sequential()\n",
    "        \n",
    "        self.features.add_module('conv1', conv_block(OBSERVED_DAYS, 32, 3))\n",
    "        self.features.add_module('conv2', conv_block(           32, 16, 3))\n",
    "        self.features.add_module('conv3', conv_block(           16,  8, 3))\n",
    "        self.features.add_module('conv4', conv_block(            8,  4, 3))\n",
    "        self.features.add_module('conv5', conv_block(            4,  2, 3))\n",
    "        \n",
    "#         N_CELLS_HOR = 200\n",
    "#         N_CELLS_VER = 250\n",
    "        # might be a good idea to add an extra full connected layer\n",
    "        # max pooling попробовать - между конволюциями\n",
    "        # в конце фулл конектед\n",
    "        self.FC1     = nn.Linear  (2, 2)\n",
    "        self.glob_relu = nn.ReLU  ()\n",
    "        self.FC2     = nn.Linear  (2, 2)\n",
    "        \n",
    "        self.SOFTMAX = nn.Softmax (dim=1);\n",
    "        \n",
    "    def forward(self, x):\n",
    "#         print ('input  : ', x.shape)\n",
    "        x = self.features(x)\n",
    "        x = x.transpose (dim0=1, dim1=3)\n",
    "        x = self.FC1  (x)\n",
    "        x = self.glob_relu (x)\n",
    "        x = self.FC2  (x)\n",
    "        x = x.transpose (dim0=1, dim1=3)\n",
    "        x = self.SOFTMAX (x)\n",
    "#         print ('output : ', x.shape)\n",
    "        return x\n",
    "        "
   ]
  },
  {
   "cell_type": "markdown",
   "metadata": {},
   "source": [
    "#### Функция тренеровки"
   ]
  },
  {
   "cell_type": "code",
   "execution_count": 30,
   "metadata": {
    "collapsed": true
   },
   "outputs": [],
   "source": [
    "def train_network_CE (network, \n",
    "                      device,\n",
    "                      dataloader_train,\n",
    "                      dataloader_test,\n",
    "                      epochs=200,\n",
    "                      learning_rate=0.1,\n",
    "                      earthquake_weight=1.):\n",
    "    \n",
    "    if (SAVE_INFO == True):\n",
    "        epochs_file = open (EXPERIMENT_DIR + 'Epochs_info.txt', 'w')\n",
    "    \n",
    "    loss_acc  = []\n",
    "    test_acc  = []\n",
    "    test_prec = []\n",
    "    test_rec  = []\n",
    "    net = network.to(device)\n",
    "\n",
    "    weights = torch.tensor([1., earthquake_weight], dtype = torch.float).to(device)\n",
    "    criterion = nn.CrossEntropyLoss(weights)\n",
    "    \n",
    "    optimizer = torch.optim.SGD(network.parameters(), lr=learning_rate, weight_decay=0.0001, momentum=0.9)\n",
    "\n",
    "    for epoch in tqdm(range(epochs)):  # loop over the dataset multiple times\n",
    "        if epoch == epochs/2:\n",
    "            optimizer = torch.optim.SGD(network.parameters(), lr=learning_rate/10, weight_decay=0.0001, momentum=0.9)\n",
    "            print ('Changed learning rate to ', learning_rate/10)\n",
    "        elif epoch == epochs*3/4:\n",
    "            optimizer = torch.optim.SGD(network.parameters(), lr=learning_rate/100, weight_decay=0.0001, momentum=0.9) \n",
    "            print ('Changed learning rate to ', learning_rate/100)\n",
    "            \n",
    "        net = net.train()        \n",
    "        epoch_accuracy = 0.0\n",
    "        epoch_elems = 0\n",
    "        for data in dataloader_train:\n",
    "            \n",
    "            inputs = data[0].to(device)\n",
    "            labels = data[1].to(device)\n",
    "#             print ('inputs_shape = ', inputs.shape)\n",
    "#             print ('labels_shape = ', labels.shape)\n",
    "\n",
    "            # zero the parameter gradients\n",
    "            optimizer.zero_grad()\n",
    "\n",
    "            # forward + backward + optimize\n",
    "            outputs = net(inputs)\n",
    "#             print ('outputs : ', outputs.shape, outputs.dtype)\n",
    "#             print ('labels  : ', labels.shape , labels.dtype)\n",
    "#             outputs = torch.cat ((1-outputs, outputs), dim=1)\n",
    "#             print ('outputs ', outputs.shape, '   [', outputs[1, 0, 12, 12], outputs[1, 1, 12, 12], ']')\n",
    "            loss = criterion(outputs, labels.squeeze(1).long())\n",
    "            loss.backward()\n",
    "            optimizer.step()\n",
    "\n",
    "#             print (loss)\n",
    "            epoch_elems    += labels.shape[0]\n",
    "            epoch_accuracy += loss.item()*labels.shape[0]\n",
    "\n",
    "        epoch_accuracy /= epoch_elems\n",
    "        loss_acc.append(epoch_accuracy)\n",
    "        \n",
    "        \n",
    "#         calculating test accuracy, precision and recall\n",
    "        epoch_accuracy  = 0.0\n",
    "        epoch_precision = 0.0\n",
    "        epoch_recall    = 0.0\n",
    "        epoch_elems = 0\n",
    "        for data in dataloader_test:\n",
    "            inputs = data[0].to(device)\n",
    "            labels = data[1].to(device)   \n",
    "            outputs = net(inputs)\n",
    "#             find_mistake(outputs)\n",
    "            accuracy = my_accuracy (outputs[:, 1, :, :].unsqueeze(1), labels, 0.5)\n",
    "            precision, recall = my_precision_recall (outputs[:, 1, :, :].unsqueeze(1), labels, 0.5)\n",
    "#             accuracy2 = my_accuracy (outputs, labels, 1.0)\n",
    "            \n",
    "            epoch_elems     += labels.shape[0]\n",
    "            epoch_accuracy  += accuracy.item()  * labels.shape[0]\n",
    "            epoch_precision += precision.item() * labels.shape[0]\n",
    "            epoch_recall    += recall.item()    * labels.shape[0]\n",
    "\n",
    "#         epoch_accuracy /= epoch_elems\n",
    "        test_acc .append (epoch_accuracy  / epoch_elems)\n",
    "        test_prec.append (epoch_precision / epoch_elems)\n",
    "        test_rec .append (epoch_recall    / epoch_elems)\n",
    "        \n",
    "        \n",
    "        print('Ep :', epoch,\n",
    "              'loss_tr :' , round (loss_acc [-1], 7),\n",
    "              'acc_ts :'  , round (test_acc [-1], 4),\n",
    "              'prec_ts :' , round (test_prec[-1], 4),\n",
    "              'rec_ts :'  , round (test_rec [-1], 4))\n",
    "        \n",
    "        if (SAVE_INFO == True):\n",
    "            print('Ep :', epoch,\n",
    "                  'loss_tr :' , round (loss_acc [-1], 7),\n",
    "                  'acc_ts :'  , round (test_acc [-1], 4),\n",
    "                  'prec_ts :' , round (test_prec[-1], 4),\n",
    "                  'rec_ts :'  , round (test_rec [-1], 4)\n",
    "                  , file=epochs_file)\n",
    "\n",
    "\n",
    "    print('Finished Training')\n",
    "    \n",
    "#     plt.plot(train_acc, label='Train')\n",
    "    plt.plot(loss_acc , label='Loss')\n",
    "    plt.legend()\n",
    "    if (SAVE_INFO == True):\n",
    "        plt.savefig(EXPERIMENT_DIR + 'Loss_train.png', format='png', dpi=100)\n",
    "    plt.show()\n",
    "    \n",
    "    plt.plot(test_acc , label='Test Accuracy')\n",
    "    plt.legend()\n",
    "    if (SAVE_INFO == True):\n",
    "        plt.savefig(EXPERIMENT_DIR + 'Accuracy_test.png', format='png', dpi=100)\n",
    "    plt.show()\n",
    "    \n",
    "    plt.plot(test_prec, label='Test Precision')\n",
    "    plt.legend()\n",
    "    if (SAVE_INFO == True):\n",
    "        plt.savefig(EXPERIMENT_DIR + 'Precision_test.png', format='png', dpi=100)\n",
    "    plt.show()\n",
    "    \n",
    "    plt.plot(test_rec , label='Test Recall')\n",
    "    plt.legend()\n",
    "    if (SAVE_INFO == True):\n",
    "        plt.savefig(EXPERIMENT_DIR + 'Recall_test.png', format='png', dpi=100)\n",
    "    plt.show()\n",
    "    \n",
    "    if (SAVE_INFO == True):\n",
    "        epochs_file.close()"
   ]
  },
  {
   "cell_type": "code",
   "execution_count": null,
   "metadata": {
    "collapsed": true
   },
   "outputs": [],
   "source": []
  },
  {
   "cell_type": "code",
   "execution_count": 31,
   "metadata": {},
   "outputs": [
    {
     "data": {
      "application/vnd.jupyter.widget-view+json": {
       "model_id": "3d6496ca09894e32b6a078bbfdb0d00f",
       "version_major": 2,
       "version_minor": 0
      },
      "text/plain": [
       "A Jupyter Widget"
      ]
     },
     "metadata": {},
     "output_type": "display_data"
    },
    {
     "name": "stdout",
     "output_type": "stream",
     "text": [
      "Ep : 0 loss_tr : 0.4305523 acc_ts : 0.0011 prec_ts : 0.0011 rec_ts : 1.0\n",
      "Ep : 1 loss_tr : 0.3646847 acc_ts : 0.0011 prec_ts : 0.0011 rec_ts : 1.0\n",
      "Ep : 2 loss_tr : 0.3641316 acc_ts : 0.0011 prec_ts : 0.0011 rec_ts : 1.0\n",
      "Ep : 3 loss_tr : 0.3636702 acc_ts : 0.0011 prec_ts : 0.0011 rec_ts : 1.0\n",
      "Ep : 4 loss_tr : 0.3634123 acc_ts : 0.0011 prec_ts : 0.0011 rec_ts : 1.0\n",
      "Ep : 5 loss_tr : 0.3633246 acc_ts : 0.0011 prec_ts : 0.0011 rec_ts : 1.0\n",
      "Ep : 6 loss_tr : 0.3629394 acc_ts : 0.0011 prec_ts : 0.0011 rec_ts : 1.0\n",
      "Ep : 7 loss_tr : 0.3634985 acc_ts : 0.0011 prec_ts : 0.0011 rec_ts : 1.0\n",
      "Ep : 8 loss_tr : 0.3633197 acc_ts : 0.0011 prec_ts : 0.0011 rec_ts : 1.0\n",
      "Ep : 9 loss_tr : 0.3629041 acc_ts : 0.0011 prec_ts : 0.0011 rec_ts : 1.0\n",
      "Ep : 10 loss_tr : 0.3630893 acc_ts : 0.0011 prec_ts : 0.0011 rec_ts : 1.0\n",
      "Ep : 11 loss_tr : 0.3630985 acc_ts : 0.0011 prec_ts : 0.0011 rec_ts : 1.0\n",
      "Ep : 12 loss_tr : 0.3625953 acc_ts : 0.0011 prec_ts : 0.0011 rec_ts : 1.0\n",
      "Ep : 13 loss_tr : 0.3625087 acc_ts : 0.0011 prec_ts : 0.0011 rec_ts : 1.0\n",
      "Ep : 14 loss_tr : 0.3628415 acc_ts : 0.0011 prec_ts : 0.0011 rec_ts : 1.0\n",
      "Ep : 15 loss_tr : 0.3623744 acc_ts : 0.0011 prec_ts : 0.0011 rec_ts : 1.0\n",
      "Ep : 16 loss_tr : 0.3624552 acc_ts : 0.0011 prec_ts : 0.0011 rec_ts : 1.0\n",
      "Ep : 17 loss_tr : 0.3630817 acc_ts : 0.0011 prec_ts : 0.0011 rec_ts : 1.0\n",
      "Ep : 18 loss_tr : 0.362804 acc_ts : 0.0011 prec_ts : 0.0011 rec_ts : 1.0\n",
      "Ep : 19 loss_tr : 0.3631504 acc_ts : 0.0011 prec_ts : 0.0011 rec_ts : 1.0\n",
      "Ep : 20 loss_tr : 0.3624248 acc_ts : 0.0011 prec_ts : 0.0011 rec_ts : 1.0\n",
      "Ep : 21 loss_tr : 0.3624149 acc_ts : 0.0011 prec_ts : 0.0011 rec_ts : 1.0\n",
      "Ep : 22 loss_tr : 0.3630229 acc_ts : 0.0011 prec_ts : 0.0011 rec_ts : 1.0\n",
      "Ep : 23 loss_tr : 0.3622945 acc_ts : 0.0011 prec_ts : 0.0011 rec_ts : 1.0\n",
      "Ep : 24 loss_tr : 0.3623778 acc_ts : 0.0011 prec_ts : 0.0011 rec_ts : 1.0\n",
      "Ep : 25 loss_tr : 0.3622274 acc_ts : 0.0011 prec_ts : 0.0011 rec_ts : 1.0\n",
      "Ep : 26 loss_tr : 0.3628217 acc_ts : 0.0011 prec_ts : 0.0011 rec_ts : 1.0\n",
      "Ep : 27 loss_tr : 0.3629422 acc_ts : 0.0011 prec_ts : 0.0011 rec_ts : 1.0\n",
      "Ep : 28 loss_tr : 0.3622779 acc_ts : 0.0011 prec_ts : 0.0011 rec_ts : 1.0\n",
      "Ep : 29 loss_tr : 0.3626876 acc_ts : 0.0011 prec_ts : 0.0011 rec_ts : 1.0\n",
      "Ep : 30 loss_tr : 0.3628369 acc_ts : 0.0011 prec_ts : 0.0011 rec_ts : 1.0\n",
      "Ep : 31 loss_tr : 0.3622886 acc_ts : 0.0011 prec_ts : 0.0011 rec_ts : 1.0\n",
      "Ep : 32 loss_tr : 0.3622045 acc_ts : 0.0011 prec_ts : 0.0011 rec_ts : 1.0\n",
      "Ep : 33 loss_tr : 0.3621042 acc_ts : 0.0011 prec_ts : 0.0011 rec_ts : 1.0\n",
      "Ep : 34 loss_tr : 0.3625049 acc_ts : 0.0011 prec_ts : 0.0011 rec_ts : 1.0\n",
      "Ep : 35 loss_tr : 0.3625696 acc_ts : 0.0011 prec_ts : 0.0011 rec_ts : 1.0\n",
      "Ep : 36 loss_tr : 0.3622013 acc_ts : 0.0011 prec_ts : 0.0011 rec_ts : 1.0\n",
      "Ep : 37 loss_tr : 0.3624018 acc_ts : 0.0011 prec_ts : 0.0011 rec_ts : 1.0\n",
      "Ep : 38 loss_tr : 0.3627848 acc_ts : 0.0011 prec_ts : 0.0011 rec_ts : 1.0\n",
      "Ep : 39 loss_tr : 0.3622914 acc_ts : 0.0011 prec_ts : 0.0011 rec_ts : 1.0\n",
      "Ep : 40 loss_tr : 0.3622526 acc_ts : 0.0011 prec_ts : 0.0011 rec_ts : 1.0\n",
      "Ep : 41 loss_tr : 0.3623226 acc_ts : 0.0011 prec_ts : 0.0011 rec_ts : 1.0\n",
      "Ep : 42 loss_tr : 0.3626647 acc_ts : 0.0011 prec_ts : 0.0011 rec_ts : 1.0\n",
      "Ep : 43 loss_tr : 0.3625686 acc_ts : 0.0011 prec_ts : 0.0011 rec_ts : 1.0\n",
      "Ep : 44 loss_tr : 0.3626671 acc_ts : 0.0011 prec_ts : 0.0011 rec_ts : 1.0\n",
      "Ep : 45 loss_tr : 0.3620384 acc_ts : 0.0011 prec_ts : 0.0011 rec_ts : 1.0\n",
      "Ep : 46 loss_tr : 0.3627195 acc_ts : 0.0011 prec_ts : 0.0011 rec_ts : 1.0\n",
      "Ep : 47 loss_tr : 0.3625261 acc_ts : 0.0011 prec_ts : 0.0011 rec_ts : 1.0\n",
      "Ep : 48 loss_tr : 0.3622113 acc_ts : 0.0011 prec_ts : 0.0011 rec_ts : 1.0\n",
      "Ep : 49 loss_tr : 0.3619343 acc_ts : 0.0011 prec_ts : 0.0011 rec_ts : 1.0\n",
      "Ep : 50 loss_tr : 0.3622764 acc_ts : 0.0011 prec_ts : 0.0011 rec_ts : 1.0\n",
      "Ep : 51 loss_tr : 0.3625863 acc_ts : 0.0011 prec_ts : 0.0011 rec_ts : 1.0\n",
      "Ep : 52 loss_tr : 0.3622395 acc_ts : 0.0011 prec_ts : 0.0011 rec_ts : 1.0\n",
      "Ep : 53 loss_tr : 0.3624355 acc_ts : 0.0011 prec_ts : 0.0011 rec_ts : 1.0\n",
      "Ep : 54 loss_tr : 0.3625326 acc_ts : 0.0011 prec_ts : 0.0011 rec_ts : 1.0\n",
      "Ep : 55 loss_tr : 0.3623867 acc_ts : 0.0011 prec_ts : 0.0011 rec_ts : 1.0\n",
      "Ep : 56 loss_tr : 0.3614591 acc_ts : 0.0011 prec_ts : 0.0011 rec_ts : 1.0\n",
      "Ep : 57 loss_tr : 0.3625568 acc_ts : 0.0011 prec_ts : 0.0011 rec_ts : 1.0\n",
      "Ep : 58 loss_tr : 0.3625128 acc_ts : 0.0011 prec_ts : 0.0011 rec_ts : 1.0\n",
      "Ep : 59 loss_tr : 0.362698 acc_ts : 0.0011 prec_ts : 0.0011 rec_ts : 1.0\n",
      "Ep : 60 loss_tr : 0.3625203 acc_ts : 0.0011 prec_ts : 0.0011 rec_ts : 1.0\n",
      "Ep : 61 loss_tr : 0.3621631 acc_ts : 0.0011 prec_ts : 0.0011 rec_ts : 1.0\n",
      "Ep : 62 loss_tr : 0.3622849 acc_ts : 0.0011 prec_ts : 0.0011 rec_ts : 1.0\n",
      "Ep : 63 loss_tr : 0.3626993 acc_ts : 0.0011 prec_ts : 0.0011 rec_ts : 1.0\n",
      "Ep : 64 loss_tr : 0.3620948 acc_ts : 0.0011 prec_ts : 0.0011 rec_ts : 1.0\n",
      "Ep : 65 loss_tr : 0.362096 acc_ts : 0.0011 prec_ts : 0.0011 rec_ts : 1.0\n",
      "Ep : 66 loss_tr : 0.362298 acc_ts : 0.0011 prec_ts : 0.0011 rec_ts : 1.0\n",
      "Ep : 67 loss_tr : 0.3625806 acc_ts : 0.0011 prec_ts : 0.0011 rec_ts : 1.0\n",
      "Ep : 68 loss_tr : 0.3630199 acc_ts : 0.0011 prec_ts : 0.0011 rec_ts : 1.0\n",
      "Ep : 69 loss_tr : 0.3623094 acc_ts : 0.0011 prec_ts : 0.0011 rec_ts : 1.0\n",
      "Ep : 70 loss_tr : 0.3622424 acc_ts : 0.0011 prec_ts : 0.0011 rec_ts : 1.0\n",
      "Ep : 71 loss_tr : 0.3625607 acc_ts : 0.0011 prec_ts : 0.0011 rec_ts : 1.0\n",
      "Ep : 72 loss_tr : 0.3622863 acc_ts : 0.0011 prec_ts : 0.0011 rec_ts : 1.0\n",
      "Ep : 73 loss_tr : 0.362072 acc_ts : 0.0011 prec_ts : 0.0011 rec_ts : 1.0\n",
      "Ep : 74 loss_tr : 0.362508 acc_ts : 0.0011 prec_ts : 0.0011 rec_ts : 1.0\n",
      "Ep : 75 loss_tr : 0.3621714 acc_ts : 0.0011 prec_ts : 0.0011 rec_ts : 1.0\n",
      "Ep : 76 loss_tr : 0.3623352 acc_ts : 0.0011 prec_ts : 0.0011 rec_ts : 1.0\n",
      "Ep : 77 loss_tr : 0.3622316 acc_ts : 0.0011 prec_ts : 0.0011 rec_ts : 1.0\n",
      "Ep : 78 loss_tr : 0.3623574 acc_ts : 0.0011 prec_ts : 0.0011 rec_ts : 1.0\n",
      "Ep : 79 loss_tr : 0.3624684 acc_ts : 0.0011 prec_ts : 0.0011 rec_ts : 1.0\n",
      "Ep : 80 loss_tr : 0.3622518 acc_ts : 0.0011 prec_ts : 0.0011 rec_ts : 1.0\n",
      "Ep : 81 loss_tr : 0.3618526 acc_ts : 0.0011 prec_ts : 0.0011 rec_ts : 1.0\n",
      "Ep : 82 loss_tr : 0.3625962 acc_ts : 0.0011 prec_ts : 0.0011 rec_ts : 1.0\n",
      "Ep : 83 loss_tr : 0.3625112 acc_ts : 0.0011 prec_ts : 0.0011 rec_ts : 1.0\n",
      "Ep : 84 loss_tr : 0.362083 acc_ts : 0.0011 prec_ts : 0.0011 rec_ts : 1.0\n",
      "Ep : 85 loss_tr : 0.3623556 acc_ts : 0.0011 prec_ts : 0.0011 rec_ts : 1.0\n",
      "Ep : 86 loss_tr : 0.3621597 acc_ts : 0.0011 prec_ts : 0.0011 rec_ts : 1.0\n",
      "Ep : 87 loss_tr : 0.3623995 acc_ts : 0.0011 prec_ts : 0.0011 rec_ts : 1.0\n",
      "Ep : 88 loss_tr : 0.3619036 acc_ts : 0.0011 prec_ts : 0.0011 rec_ts : 1.0\n",
      "Ep : 89 loss_tr : 0.3623397 acc_ts : 0.0011 prec_ts : 0.0011 rec_ts : 1.0\n",
      "Ep : 90 loss_tr : 0.3625309 acc_ts : 0.0011 prec_ts : 0.0011 rec_ts : 1.0\n",
      "Ep : 91 loss_tr : 0.3620992 acc_ts : 0.0011 prec_ts : 0.0011 rec_ts : 1.0\n",
      "Ep : 92 loss_tr : 0.3622354 acc_ts : 0.0011 prec_ts : 0.0011 rec_ts : 1.0\n",
      "Ep : 93 loss_tr : 0.3624618 acc_ts : 0.0011 prec_ts : 0.0011 rec_ts : 1.0\n",
      "Ep : 94 loss_tr : 0.3622305 acc_ts : 0.0011 prec_ts : 0.0011 rec_ts : 1.0\n",
      "Ep : 95 loss_tr : 0.3623853 acc_ts : 0.0011 prec_ts : 0.0011 rec_ts : 1.0\n",
      "Ep : 96 loss_tr : 0.362713 acc_ts : 0.0011 prec_ts : 0.0011 rec_ts : 1.0\n",
      "Ep : 97 loss_tr : 0.3626308 acc_ts : 0.0011 prec_ts : 0.0011 rec_ts : 1.0\n",
      "Ep : 98 loss_tr : 0.3620557 acc_ts : 0.0011 prec_ts : 0.0011 rec_ts : 1.0\n",
      "Ep : 99 loss_tr : 0.3622927 acc_ts : 0.0011 prec_ts : 0.0011 rec_ts : 1.0\n",
      "Changed learning rate to  0.01\n",
      "Ep : 100 loss_tr : 0.3616257 acc_ts : 0.0011 prec_ts : 0.0011 rec_ts : 1.0\n",
      "Ep : 101 loss_tr : 0.3619126 acc_ts : 0.0011 prec_ts : 0.0011 rec_ts : 1.0\n",
      "Ep : 102 loss_tr : 0.3622174 acc_ts : 0.0011 prec_ts : 0.0011 rec_ts : 1.0\n",
      "Ep : 103 loss_tr : 0.3624471 acc_ts : 0.0011 prec_ts : 0.0011 rec_ts : 1.0\n",
      "Ep : 104 loss_tr : 0.3623009 acc_ts : 0.0011 prec_ts : 0.0011 rec_ts : 1.0\n",
      "Ep : 105 loss_tr : 0.362702 acc_ts : 0.0011 prec_ts : 0.0011 rec_ts : 1.0\n",
      "Ep : 106 loss_tr : 0.3627152 acc_ts : 0.0011 prec_ts : 0.0011 rec_ts : 1.0\n",
      "Ep : 107 loss_tr : 0.3622532 acc_ts : 0.0011 prec_ts : 0.0011 rec_ts : 1.0\n",
      "Ep : 108 loss_tr : 0.3625522 acc_ts : 0.0011 prec_ts : 0.0011 rec_ts : 1.0\n",
      "Ep : 109 loss_tr : 0.3622035 acc_ts : 0.0011 prec_ts : 0.0011 rec_ts : 1.0\n",
      "Ep : 110 loss_tr : 0.3629665 acc_ts : 0.0011 prec_ts : 0.0011 rec_ts : 1.0\n"
     ]
    },
    {
     "name": "stdout",
     "output_type": "stream",
     "text": [
      "Ep : 111 loss_tr : 0.3621124 acc_ts : 0.0011 prec_ts : 0.0011 rec_ts : 1.0\n",
      "Ep : 112 loss_tr : 0.3624314 acc_ts : 0.0011 prec_ts : 0.0011 rec_ts : 1.0\n",
      "Ep : 113 loss_tr : 0.3625395 acc_ts : 0.0011 prec_ts : 0.0011 rec_ts : 1.0\n",
      "Ep : 114 loss_tr : 0.3621635 acc_ts : 0.0011 prec_ts : 0.0011 rec_ts : 1.0\n",
      "Ep : 115 loss_tr : 0.3622457 acc_ts : 0.0011 prec_ts : 0.0011 rec_ts : 1.0\n",
      "Ep : 116 loss_tr : 0.3620253 acc_ts : 0.0011 prec_ts : 0.0011 rec_ts : 1.0\n",
      "Ep : 117 loss_tr : 0.3624004 acc_ts : 0.0011 prec_ts : 0.0011 rec_ts : 1.0\n",
      "Ep : 118 loss_tr : 0.3620537 acc_ts : 0.0011 prec_ts : 0.0011 rec_ts : 1.0\n",
      "Ep : 119 loss_tr : 0.362617 acc_ts : 0.0011 prec_ts : 0.0011 rec_ts : 1.0\n",
      "Ep : 120 loss_tr : 0.3624016 acc_ts : 0.0011 prec_ts : 0.0011 rec_ts : 1.0\n",
      "Ep : 121 loss_tr : 0.3620949 acc_ts : 0.0011 prec_ts : 0.0011 rec_ts : 1.0\n",
      "Ep : 122 loss_tr : 0.3623476 acc_ts : 0.0011 prec_ts : 0.0011 rec_ts : 1.0\n",
      "Ep : 123 loss_tr : 0.3622464 acc_ts : 0.0011 prec_ts : 0.0011 rec_ts : 1.0\n",
      "Ep : 124 loss_tr : 0.3624221 acc_ts : 0.0011 prec_ts : 0.0011 rec_ts : 1.0\n",
      "Ep : 125 loss_tr : 0.3625955 acc_ts : 0.0011 prec_ts : 0.0011 rec_ts : 1.0\n",
      "Ep : 126 loss_tr : 0.3619136 acc_ts : 0.0011 prec_ts : 0.0011 rec_ts : 1.0\n",
      "Ep : 127 loss_tr : 0.3623631 acc_ts : 0.0011 prec_ts : 0.0011 rec_ts : 1.0\n",
      "Ep : 128 loss_tr : 0.3622254 acc_ts : 0.0011 prec_ts : 0.0011 rec_ts : 1.0\n",
      "Ep : 129 loss_tr : 0.3620588 acc_ts : 0.0011 prec_ts : 0.0011 rec_ts : 1.0\n",
      "Ep : 130 loss_tr : 0.3623424 acc_ts : 0.0011 prec_ts : 0.0011 rec_ts : 1.0\n",
      "Ep : 131 loss_tr : 0.3619204 acc_ts : 0.0011 prec_ts : 0.0011 rec_ts : 1.0\n",
      "Ep : 132 loss_tr : 0.3619616 acc_ts : 0.0011 prec_ts : 0.0011 rec_ts : 1.0\n",
      "Ep : 133 loss_tr : 0.3623762 acc_ts : 0.0011 prec_ts : 0.0011 rec_ts : 1.0\n",
      "Ep : 134 loss_tr : 0.3622916 acc_ts : 0.0011 prec_ts : 0.0011 rec_ts : 1.0\n",
      "Ep : 135 loss_tr : 0.3625132 acc_ts : 0.0011 prec_ts : 0.0011 rec_ts : 1.0\n",
      "Ep : 136 loss_tr : 0.3623811 acc_ts : 0.0011 prec_ts : 0.0011 rec_ts : 1.0\n",
      "Ep : 137 loss_tr : 0.3622859 acc_ts : 0.0011 prec_ts : 0.0011 rec_ts : 1.0\n",
      "Ep : 138 loss_tr : 0.3624123 acc_ts : 0.0011 prec_ts : 0.0011 rec_ts : 1.0\n",
      "Ep : 139 loss_tr : 0.3626248 acc_ts : 0.0011 prec_ts : 0.0011 rec_ts : 1.0\n",
      "Ep : 140 loss_tr : 0.3622178 acc_ts : 0.0011 prec_ts : 0.0011 rec_ts : 1.0\n",
      "Ep : 141 loss_tr : 0.3623368 acc_ts : 0.0011 prec_ts : 0.0011 rec_ts : 1.0\n",
      "Ep : 142 loss_tr : 0.3625833 acc_ts : 0.0011 prec_ts : 0.0011 rec_ts : 1.0\n",
      "Ep : 143 loss_tr : 0.3625828 acc_ts : 0.0011 prec_ts : 0.0011 rec_ts : 1.0\n",
      "Ep : 144 loss_tr : 0.3621581 acc_ts : 0.0011 prec_ts : 0.0011 rec_ts : 1.0\n",
      "Ep : 145 loss_tr : 0.3623635 acc_ts : 0.0011 prec_ts : 0.0011 rec_ts : 1.0\n",
      "Ep : 146 loss_tr : 0.361993 acc_ts : 0.0011 prec_ts : 0.0011 rec_ts : 1.0\n",
      "Ep : 147 loss_tr : 0.3623531 acc_ts : 0.0011 prec_ts : 0.0011 rec_ts : 1.0\n",
      "Ep : 148 loss_tr : 0.3624916 acc_ts : 0.0011 prec_ts : 0.0011 rec_ts : 1.0\n",
      "Ep : 149 loss_tr : 0.3627165 acc_ts : 0.0011 prec_ts : 0.0011 rec_ts : 1.0\n",
      "Changed learning rate to  0.001\n",
      "Ep : 150 loss_tr : 0.3626707 acc_ts : 0.0011 prec_ts : 0.0011 rec_ts : 1.0\n",
      "Ep : 151 loss_tr : 0.3619542 acc_ts : 0.0011 prec_ts : 0.0011 rec_ts : 1.0\n",
      "Ep : 152 loss_tr : 0.3626718 acc_ts : 0.0011 prec_ts : 0.0011 rec_ts : 1.0\n",
      "Ep : 153 loss_tr : 0.3620334 acc_ts : 0.0011 prec_ts : 0.0011 rec_ts : 1.0\n",
      "Ep : 154 loss_tr : 0.3620108 acc_ts : 0.0011 prec_ts : 0.0011 rec_ts : 1.0\n",
      "Ep : 155 loss_tr : 0.3622549 acc_ts : 0.0011 prec_ts : 0.0011 rec_ts : 1.0\n",
      "Ep : 156 loss_tr : 0.362465 acc_ts : 0.0011 prec_ts : 0.0011 rec_ts : 1.0\n",
      "Ep : 157 loss_tr : 0.3623514 acc_ts : 0.0011 prec_ts : 0.0011 rec_ts : 1.0\n",
      "Ep : 158 loss_tr : 0.3622398 acc_ts : 0.0011 prec_ts : 0.0011 rec_ts : 1.0\n",
      "Ep : 159 loss_tr : 0.3621623 acc_ts : 0.0011 prec_ts : 0.0011 rec_ts : 1.0\n",
      "Ep : 160 loss_tr : 0.3618502 acc_ts : 0.0011 prec_ts : 0.0011 rec_ts : 1.0\n",
      "Ep : 161 loss_tr : 0.3629003 acc_ts : 0.0011 prec_ts : 0.0011 rec_ts : 1.0\n",
      "Ep : 162 loss_tr : 0.362659 acc_ts : 0.0011 prec_ts : 0.0011 rec_ts : 1.0\n",
      "Ep : 163 loss_tr : 0.3628836 acc_ts : 0.0011 prec_ts : 0.0011 rec_ts : 1.0\n",
      "Ep : 164 loss_tr : 0.3630415 acc_ts : 0.0011 prec_ts : 0.0011 rec_ts : 1.0\n",
      "Ep : 165 loss_tr : 0.3619914 acc_ts : 0.0011 prec_ts : 0.0011 rec_ts : 1.0\n",
      "Ep : 166 loss_tr : 0.3618296 acc_ts : 0.0011 prec_ts : 0.0011 rec_ts : 1.0\n",
      "Ep : 167 loss_tr : 0.3627319 acc_ts : 0.0011 prec_ts : 0.0011 rec_ts : 1.0\n",
      "Ep : 168 loss_tr : 0.3623705 acc_ts : 0.0011 prec_ts : 0.0011 rec_ts : 1.0\n",
      "Ep : 169 loss_tr : 0.3620842 acc_ts : 0.0011 prec_ts : 0.0011 rec_ts : 1.0\n",
      "Ep : 170 loss_tr : 0.3626344 acc_ts : 0.0011 prec_ts : 0.0011 rec_ts : 1.0\n",
      "Ep : 171 loss_tr : 0.3622065 acc_ts : 0.0011 prec_ts : 0.0011 rec_ts : 1.0\n",
      "Ep : 172 loss_tr : 0.3625108 acc_ts : 0.0011 prec_ts : 0.0011 rec_ts : 1.0\n",
      "Ep : 173 loss_tr : 0.36243 acc_ts : 0.0011 prec_ts : 0.0011 rec_ts : 1.0\n",
      "Ep : 174 loss_tr : 0.3624992 acc_ts : 0.0011 prec_ts : 0.0011 rec_ts : 1.0\n",
      "Ep : 175 loss_tr : 0.3626456 acc_ts : 0.0011 prec_ts : 0.0011 rec_ts : 1.0\n",
      "Ep : 176 loss_tr : 0.3621258 acc_ts : 0.0011 prec_ts : 0.0011 rec_ts : 1.0\n",
      "Ep : 177 loss_tr : 0.3619239 acc_ts : 0.0011 prec_ts : 0.0011 rec_ts : 1.0\n",
      "Ep : 178 loss_tr : 0.362087 acc_ts : 0.0011 prec_ts : 0.0011 rec_ts : 1.0\n",
      "Ep : 179 loss_tr : 0.3623612 acc_ts : 0.0011 prec_ts : 0.0011 rec_ts : 1.0\n",
      "Ep : 180 loss_tr : 0.3618785 acc_ts : 0.0011 prec_ts : 0.0011 rec_ts : 1.0\n",
      "Ep : 181 loss_tr : 0.36198 acc_ts : 0.0011 prec_ts : 0.0011 rec_ts : 1.0\n",
      "Ep : 182 loss_tr : 0.3621165 acc_ts : 0.0011 prec_ts : 0.0011 rec_ts : 1.0\n",
      "Ep : 183 loss_tr : 0.3626977 acc_ts : 0.0011 prec_ts : 0.0011 rec_ts : 1.0\n",
      "Ep : 184 loss_tr : 0.3620286 acc_ts : 0.0011 prec_ts : 0.0011 rec_ts : 1.0\n",
      "Ep : 185 loss_tr : 0.3623912 acc_ts : 0.0011 prec_ts : 0.0011 rec_ts : 1.0\n",
      "Ep : 186 loss_tr : 0.3622819 acc_ts : 0.0011 prec_ts : 0.0011 rec_ts : 1.0\n",
      "Ep : 187 loss_tr : 0.3622594 acc_ts : 0.0011 prec_ts : 0.0011 rec_ts : 1.0\n",
      "Ep : 188 loss_tr : 0.3621251 acc_ts : 0.0011 prec_ts : 0.0011 rec_ts : 1.0\n",
      "Ep : 189 loss_tr : 0.3620124 acc_ts : 0.0011 prec_ts : 0.0011 rec_ts : 1.0\n",
      "Ep : 190 loss_tr : 0.3624829 acc_ts : 0.0011 prec_ts : 0.0011 rec_ts : 1.0\n",
      "Ep : 191 loss_tr : 0.3624147 acc_ts : 0.0011 prec_ts : 0.0011 rec_ts : 1.0\n",
      "Ep : 192 loss_tr : 0.3627176 acc_ts : 0.0011 prec_ts : 0.0011 rec_ts : 1.0\n",
      "Ep : 193 loss_tr : 0.3629531 acc_ts : 0.0011 prec_ts : 0.0011 rec_ts : 1.0\n",
      "Ep : 194 loss_tr : 0.3621627 acc_ts : 0.0011 prec_ts : 0.0011 rec_ts : 1.0\n",
      "Ep : 195 loss_tr : 0.3621443 acc_ts : 0.0011 prec_ts : 0.0011 rec_ts : 1.0\n",
      "Ep : 196 loss_tr : 0.3622466 acc_ts : 0.0011 prec_ts : 0.0011 rec_ts : 1.0\n",
      "Ep : 197 loss_tr : 0.3623037 acc_ts : 0.0011 prec_ts : 0.0011 rec_ts : 1.0\n",
      "Ep : 198 loss_tr : 0.3625061 acc_ts : 0.0011 prec_ts : 0.0011 rec_ts : 1.0\n",
      "Ep : 199 loss_tr : 0.3625195 acc_ts : 0.0011 prec_ts : 0.0011 rec_ts : 1.0\n",
      "\n",
      "Finished Training\n"
     ]
    },
    {
     "data": {
      "image/png": "[encoded data removed]",
      "text/plain": [
       "<matplotlib.figure.Figure at 0x7f8304cd95f8>"
      ]
     },
     "metadata": {},
     "output_type": "display_data"
    },
    {
     "data": {
      "image/png": "[encoded data removed]",
      "text/plain": [
       "<matplotlib.figure.Figure at 0x7f83de5a6e80>"
      ]
     },
     "metadata": {},
     "output_type": "display_data"
    },
    {
     "data": {
      "image/png": "[encoded data removed]",
      "text/plain": [
       "<matplotlib.figure.Figure at 0x7f8304425668>"
      ]
     },
     "metadata": {},
     "output_type": "display_data"
    },
    {
     "data": {
      "image/png": "[encoded data removed]",
      "text/plain": [
       "<matplotlib.figure.Figure at 0x7f8304416358>"
      ]
     },
     "metadata": {},
     "output_type": "display_data"
    }
   ],
   "source": [
    "LEARNING_RATE = 0.1\n",
    "N_EPOCHS = 200\n",
    "EARTHQUAKE_WEIGHT = 10000.\n",
    "\n",
    "earthquake_network = ConvNetwork_CE ()\n",
    "train_network_CE  (earthquake_network,\n",
    "                   torch.device(DEVICE),\n",
    "                   earthquakes_dataloader_train,\n",
    "                   earthquakes_dataloader_test,\n",
    "                   epochs=N_EPOCHS,\n",
    "                   learning_rate=LEARNING_RATE,\n",
    "                   earthquake_weight=EARTHQUAKE_WEIGHT\n",
    "                   )"
   ]
  },
  {
   "cell_type": "code",
   "execution_count": 32,
   "metadata": {
    "collapsed": true
   },
   "outputs": [],
   "source": [
    "def print_ROCinfo (model, dataLoader, device, alpha=0.5, n_dots=101):\n",
    "    model = model.to(device)\n",
    "    \n",
    "    \n",
    "    threshold_massive = np.linspace (0, n_dots-1, n_dots, dtype=int)\n",
    "    TP_massive = np.zeros (n_dots)\n",
    "    FP_massive = np.zeros (n_dots)\n",
    "    FN_massive = np.zeros (n_dots)\n",
    "    TN_massive = np.zeros (n_dots)\n",
    "    \n",
    "    for data in dataLoader:\n",
    "        inputs = data[0].to(device)\n",
    "        labels = data[1].to(device)\n",
    "\n",
    "        outputs = model(inputs)\n",
    "        \n",
    "        for threshold in threshold_massive:\n",
    "            prediction = (outputs[:, 1, :, :].unsqueeze(1))>(threshold/n_dots)\n",
    "            TP_massive[threshold] += torch.sum (prediction       * labels      ).float()\n",
    "            FP_massive[threshold] += torch.sum (prediction       * (1 - labels)).float()\n",
    "            FN_massive[threshold] += torch.sum ((1 - prediction) * labels      ).float()\n",
    "            TN_massive[threshold] += torch.sum ((1 - prediction) * (1 - labels)).float()\n",
    "            \n",
    "    threshold_massive = threshold_massive / (n_dots-1)\n",
    "    precision_massive = TP_massive / (TP_massive + FP_massive)\n",
    "    TPR_massive       = TP_massive / (TP_massive + FN_massive)\n",
    "    FPR_massive       = FP_massive / (FP_massive + TN_massive)\n",
    "\n",
    "    sum_events = TP_massive[int(len(TP_massive)/2)] + FP_massive[int(len(FP_massive)/2)] + FN_massive[int(len(FN_massive)/2)] + TN_massive[int(len(TN_massive)/2)] \n",
    "    print ('TP = ', round(TP_massive[int(len(TP_massive)/2)] / sum_events, 6), '%')\n",
    "    print ('FP = ', round(FP_massive[int(len(FP_massive)/2)] / sum_events, 6), '%')\n",
    "    print ('FN = ', round(FN_massive[int(len(FN_massive)/2)] / sum_events, 6), '%')\n",
    "    print ('TN = ', round(TN_massive[int(len(TN_massive)/2)] / sum_events, 6), '%')\n",
    "    \n",
    "    if (SAVE_INFO == True):\n",
    "        print ('TP = ', round(TP_massive[int(len(TP_massive)/2)] / sum_events, 6), '%', file=INFO_FILE)\n",
    "        print ('FP = ', round(FP_massive[int(len(FP_massive)/2)] / sum_events, 6), '%', file=INFO_FILE)\n",
    "        print ('FN = ', round(FN_massive[int(len(FN_massive)/2)] / sum_events, 6), '%', file=INFO_FILE)\n",
    "        print ('TN = ', round(TN_massive[int(len(TN_massive)/2)] / sum_events, 6), '%', file=INFO_FILE)\n",
    "    \n",
    "    # plot 1 precision\n",
    "    fig1 = plt.figure(figsize=(10, 6))\n",
    "\n",
    "    axes = fig1.add_axes([0.1, 0.1, 0.8, 0.8])\n",
    "\n",
    "    axes.plot(threshold_massive, precision_massive, color='green', marker='^')\n",
    "\n",
    "    axes.set_xlabel('threshold')\n",
    "    axes.set_ylabel('precision')\n",
    "\n",
    "    if (SAVE_INFO == True):\n",
    "        plt.savefig(EXPERIMENT_DIR + 'Precision_from_threshold.png', format='png', dpi=100)\n",
    "    plt.show()\n",
    "    \n",
    "    # plot 2 recall\n",
    "    fig = plt.figure(figsize=(10, 6))\n",
    "\n",
    "    axes = fig.add_axes([0.1, 0.1, 0.8, 0.8])\n",
    "\n",
    "    axes.plot(threshold_massive, TPR_massive, color='green', marker='^')\n",
    "\n",
    "    axes.set_xlabel('threshold')\n",
    "    axes.set_ylabel('recall')\n",
    "    \n",
    "    if (SAVE_INFO == True):\n",
    "        plt.savefig(EXPERIMENT_DIR + 'Recall_from_threshold.png', format='png', dpi=100)\n",
    "    plt.show()\n",
    "    \n",
    "    # plot 3 ROC-curve\n",
    "    fig = plt.figure(figsize=(8, 8))\n",
    "\n",
    "    axes = fig.add_axes([0.1, 0.1, 0.8, 0.8])\n",
    "\n",
    "    axes.plot(FPR_massive, TPR_massive, 'orange', marker = '^')\n",
    "    axes.plot (range(2), range(2), 'grey', ls='--')\n",
    "\n",
    "    axes.set_xlabel('FPR')\n",
    "    axes.set_ylabel('TPR (recall)')\n",
    "    axes.set_title('ROC-curve')\n",
    "\n",
    "    if (SAVE_INFO == True):\n",
    "        plt.savefig(EXPERIMENT_DIR + 'ROC_curve.png', format='png', dpi=100)\n",
    "    plt.show()\n",
    "    \n",
    "    del model\n",
    "    del inputs\n",
    "    del labels"
   ]
  },
  {
   "cell_type": "code",
   "execution_count": 33,
   "metadata": {
    "collapsed": true
   },
   "outputs": [],
   "source": [
    "def print_INFO_to_file():\n",
    "    if (SAVE_INFO == True):\n",
    "        print ('ORIGIN_LATITUDE        =', ORIGIN_LATITUDE                       , file=INFO_FILE)\n",
    "        print ('ORIGIN_LONGITUDE       =', ORIGIN_LONGITUDE                      , file=INFO_FILE)\n",
    "        print ('LEFT_BORDER            =', LEFT_BORDER                           , file=INFO_FILE)\n",
    "        print ('RIGHT_BORDER           =', RIGHT_BORDER                          , file=INFO_FILE)\n",
    "        print ('DOWN_BORDER            =', DOWN_BORDER                           , file=INFO_FILE)\n",
    "        print ('UP_BORDER              =', UP_BORDER                             , file=INFO_FILE)\n",
    "        print ('N_CELLS_HOR            =', N_CELLS_HOR                           , file=INFO_FILE)\n",
    "        print ('N_CELLS_VER            =', N_CELLS_VER                           , file=INFO_FILE)\n",
    "        print (' '                                                               , file=INFO_FILE)\n",
    "        print ('OBSERVED_DAYS          =', OBSERVED_DAYS                         , file=INFO_FILE)\n",
    "        print ('DAYS_TO_PREDICT        =', DAYS_TO_PREDICT                       , file=INFO_FILE)\n",
    "        print ('STEP                   =', STEP                                  , file=INFO_FILE)\n",
    "        print ('TESTING_DAYS           =', TESTING_DAYS                          , file=INFO_FILE)\n",
    "        print ('HEAVY_QUAKE_THRES      =', HEAVY_QUAKE_THRES                     , file=INFO_FILE)\n",
    "        print ('LEARNING_RATE          =', LEARNING_RATE                         , file=INFO_FILE)\n",
    "        print ('N_EPOCHS               =', N_EPOCHS                              , file=INFO_FILE)\n",
    "        print ('EARTHQUAKE_WEIGHT      =', EARTHQUAKE_WEIGHT                     , file=INFO_FILE)\n",
    "        print ('TRAIN_SHAPE            =', earthquakes_dataset_train.data.shape  , file=INFO_FILE)\n",
    "        print ('TEST__SHAPE            =', earthquakes_dataset_test .result.shape, file=INFO_FILE)\n",
    "        \n",
    "#         print ('', , file=INFO_FILE)\n"
   ]
  },
  {
   "cell_type": "code",
   "execution_count": 34,
   "metadata": {},
   "outputs": [
    {
     "name": "stdout",
     "output_type": "stream",
     "text": [
      "TP =  0.001105 %\n",
      "FP =  0.998895 %\n",
      "FN =  0.0 %\n",
      "TN =  0.0 %\n"
     ]
    },
    {
     "data": {
      "image/png": "[encoded data removed]",
      "text/plain": [
       "<matplotlib.figure.Figure at 0x7f8304316ba8>"
      ]
     },
     "metadata": {},
     "output_type": "display_data"
    },
    {
     "data": {
      "image/png": "[encoded data removed]",
      "text/plain": [
       "<matplotlib.figure.Figure at 0x7f83043b60b8>"
      ]
     },
     "metadata": {},
     "output_type": "display_data"
    },
    {
     "data": {
      "image/png": "[encoded data removed]",
      "text/plain": [
       "<matplotlib.figure.Figure at 0x7f83043af518>"
      ]
     },
     "metadata": {},
     "output_type": "display_data"
    }
   ],
   "source": [
    "if (SAVE_INFO == True):\n",
    "    INFO_FILE = open (EXPERIMENT_DIR + 'INFO.txt', 'w')\n",
    "    \n",
    "if (SAVE_INFO == True):\n",
    "    print_INFO_to_file()\n",
    "    \n",
    "print_ROCinfo (earthquake_network,\n",
    "               earthquakes_dataloader_test,\n",
    "               DEVICE,\n",
    "               ) \n",
    "\n",
    "if (SAVE_INFO == True):\n",
    "    INFO_FILE.close()"
   ]
  },
  {
   "cell_type": "code",
   "execution_count": null,
   "metadata": {
    "collapsed": true
   },
   "outputs": [],
   "source": []
  },
  {
   "cell_type": "code",
   "execution_count": null,
   "metadata": {
    "collapsed": true
   },
   "outputs": [],
   "source": []
  },
  {
   "cell_type": "code",
   "execution_count": 35,
   "metadata": {
    "collapsed": true
   },
   "outputs": [],
   "source": [
    "# class ConvNetwork_MSE (nn.Module):\n",
    "    \n",
    "#     def __init__(self):\n",
    "#         super(ConvNetwork_CE, self).__init__()\n",
    "        \n",
    "#         self.features = nn.Sequential()\n",
    "        \n",
    "#         self.features.add_module('conv1', conv_block(     OBSERVED_DAYS    , int (OBSERVED_DAYS/2 ), 3))\n",
    "#         self.features.add_module('conv2', conv_block(int (OBSERVED_DAYS/2 ), int (OBSERVED_DAYS/4 ), 3))\n",
    "#         self.features.add_module('conv3', conv_block(int (OBSERVED_DAYS/4 ), int (OBSERVED_DAYS/8 ), 3))\n",
    "#         self.features.add_module('conv4', conv_block(int (OBSERVED_DAYS/8 ), int (OBSERVED_DAYS/16), 3))\n",
    "#         self.features.add_module('conv5', conv_block(int (OBSERVED_DAYS/16),                      1, 3))\n",
    "        \n",
    "#         # might be a good idea to add an extra full connected layer\n",
    "        \n",
    "#     def forward(self, x):\n",
    "# #         print ('input  : ', x.shape)\n",
    "#         x = self.features(x)\n",
    "# #         print ('output : ', x.shape)\n",
    "#         return x\n",
    "        "
   ]
  },
  {
   "cell_type": "code",
   "execution_count": 36,
   "metadata": {
    "collapsed": true
   },
   "outputs": [],
   "source": [
    "# def train_network_MSE(network, \n",
    "#                       device,\n",
    "#                       dataloader_train,\n",
    "#                       dataloader_test,\n",
    "#                       epochs=164,\n",
    "#                       learning_rate=0.1):\n",
    "    \n",
    "#     train_acc = []\n",
    "#     test_acc  = []\n",
    "#     net = network.to(device)\n",
    "\n",
    "#     criterion = nn.MSELoss()\n",
    "#     optimizer = torch.optim.SGD(network.parameters(), lr=learning_rate, weight_decay=0.0001, momentum=0.9)\n",
    "\n",
    "    \n",
    "#     for epoch in tqdm(range(epochs)):  # loop over the dataset multiple times\n",
    "#         if epoch == epochs/2:\n",
    "#             optimizer = torch.optim.SGD(network.parameters(), lr=learning_rate/10, weight_decay=0.0001, momentum=0.9) \n",
    "#         elif epoch == epochs*3/4:\n",
    "#             optimizer = torch.optim.SGD(network.parameters(), lr=learning_rate/100, weight_decay=0.0001, momentum=0.9) \n",
    "        \n",
    "#         net = net.train()        \n",
    "#         epoch_accuracy = 0.0\n",
    "#         epoch_elems = 0\n",
    "#         for data in dataloader_train:\n",
    "            \n",
    "#             inputs = data[0].to(device)\n",
    "#             labels = data[1].to(device)\n",
    "# #             print ('inputs_shape = ', inputs.shape)\n",
    "# #             print ('labels_shape = ', labels.shape)\n",
    "\n",
    "#             # zero the parameter gradients\n",
    "#             optimizer.zero_grad()\n",
    "\n",
    "#             # forward + backward + optimize\n",
    "#             outputs = net(inputs)\n",
    "# #             print ('outputs : ', outputs.dtype)\n",
    "# #             print ('labels  : ', labels.dtype)\n",
    "#             loss = criterion(outputs, labels)\n",
    "#             loss.backward()\n",
    "#             optimizer.step()\n",
    "\n",
    "# #             print (loss)\n",
    "#             epoch_elems    += labels.shape[0]\n",
    "#             epoch_accuracy += loss.item()*labels.shape[0]\n",
    "\n",
    "#         epoch_accuracy /= epoch_elems\n",
    "#         train_acc.append(epoch_accuracy)\n",
    "        \n",
    "        \n",
    "#         # calculating test accuracy\n",
    "#         epoch_accuracy = 0.0\n",
    "#         epoch_elems = 0\n",
    "#         for data in dataloader_test:\n",
    "#             inputs = data[0].to(device)\n",
    "#             labels = data[1].to(device)   \n",
    "#             outputs = net(inputs)\n",
    "#             loss = criterion(outputs, labels)\n",
    "            \n",
    "#             epoch_elems    += labels.shape[0]\n",
    "#             epoch_accuracy += loss.item()*labels.shape[0]\n",
    "\n",
    "#         epoch_accuracy /= epoch_elems\n",
    "#         test_acc.append(epoch_accuracy)\n",
    "        \n",
    "        \n",
    "#         print('Epoch : ', epoch, 'acc_train : ', round (train_acc[-1], 4), 'acc_test : ', round (test_acc[-1], 4))\n",
    "\n",
    "#     print('Finished Training')\n",
    "    \n",
    "#     plt.plot(train_acc, label='Train')\n",
    "#     plt.plot(test_acc , label='Test' )\n",
    "#     plt.legend()\n",
    "#     plt.grid()"
   ]
  },
  {
   "cell_type": "code",
   "execution_count": 37,
   "metadata": {
    "collapsed": true
   },
   "outputs": [],
   "source": [
    "# earthquake_netowrk = ConvNetwork_MSE ()\n",
    "# train_network_MSE (earthquake_netowrk,\n",
    "#                    torch.device(DEVICE),\n",
    "#                    earthquakes_dataloader_train,\n",
    "#                    earthquakes_dataloader_test,\n",
    "#                    epochs=200,\n",
    "#                    )"
   ]
  },
  {
   "cell_type": "code",
   "execution_count": 38,
   "metadata": {
    "collapsed": true
   },
   "outputs": [],
   "source": [
    "# def find_mistake (x):\n",
    "#     assert (torch.sum((x < 0.0) + (x > 1.0)) == 0)"
   ]
  },
  {
   "cell_type": "code",
   "execution_count": 39,
   "metadata": {
    "collapsed": true
   },
   "outputs": [],
   "source": [
    "# loss = nn.CrossEntropyLoss()\n",
    "# input = torch.randn(3, 5, requires_grad=True)\n",
    "# target = torch.empty(3, dtype=torch.long).random_(5)\n",
    "# print ('input  : ', input.shape, input.dtype)\n",
    "# print (input)\n",
    "# print (torch.sum (input, dim = 0))\n",
    "# print ('target : ', target.shape, target.dtype)\n",
    "# print (target)\n",
    "# output = loss(input, target)\n",
    "# output.backward()"
   ]
  },
  {
   "cell_type": "code",
   "execution_count": 40,
   "metadata": {
    "collapsed": true
   },
   "outputs": [],
   "source": [
    "# import torch\n",
    "# from torch.utils.data import Dataset, DataLoader\n",
    "\n",
    "# class someDataset (Dataset):\n",
    "#     def __init__(self):\n",
    "#         self.data = torch.ones ([100, 32, 10, 10])\n",
    "#         self.labels = torch.ones ([100, 1, 10, 10])\n",
    "#         self.len  = self.data.shape[0]\n",
    "        \n",
    "#         print (self.data.shape)\n",
    "#         print (self.labels.shape)\n",
    "        \n",
    "#     def __len__ (self):\n",
    "#         return self.len\n",
    "    \n",
    "#     def __getitem__(self, idx):\n",
    "#         print ('data_shape = ', self.data[idx].shape)\n",
    "#         print ('result_shape = ', self.labels[idx].shape)\n",
    "#         return self.data[idx], self.labels[idx]"
   ]
  },
  {
   "cell_type": "code",
   "execution_count": 41,
   "metadata": {
    "collapsed": true
   },
   "outputs": [],
   "source": [
    "# some_dataset = someDataset()\n",
    "# dataloader = DataLoader (some_dataset,\n",
    "#                          batch_size=32,\n",
    "#                          shuffle=True,\n",
    "#                          num_workers=1,\n",
    "#                          )\n",
    "\n",
    "# for i, batch in enumerate(dataloader, 0):\n",
    "#     data = batch[0]\n",
    "#     print (i, 'data ', data.shape)\n",
    "#     labels = batch[1]\n",
    "#     print (i, 'labels ', labels.shape)\n",
    "    \n",
    "\n",
    "\n",
    "# # eartquakes_dataloader_train = DataLoader(earthquakes_dataset_train,\n",
    "# #                                          batch_size=33,\n",
    "# #                                          shuffle=True,\n",
    "# #                                          num_workers=4)\n"
   ]
  },
  {
   "cell_type": "code",
   "execution_count": null,
   "metadata": {
    "collapsed": true
   },
   "outputs": [],
   "source": []
  }
 ],
 "metadata": {
  "kernelspec": {
   "display_name": "Python 3",
   "language": "python",
   "name": "python3"
  },
  "language_info": {
   "codemirror_mode": {
    "name": "ipython",
    "version": 3
   },
   "file_extension": ".py",
   "mimetype": "text/x-python",
   "name": "python",
   "nbconvert_exporter": "python",
   "pygments_lexer": "ipython3",
   "version": "3.6.8"
  }
 },
 "nbformat": 4,
 "nbformat_minor": 2
}
